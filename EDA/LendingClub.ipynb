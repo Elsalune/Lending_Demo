{
 "cells": [
  {
   "cell_type": "code",
   "execution_count": null,
   "metadata": {
    "collapsed": true
   },
   "outputs": [],
   "source": [
    "import pandas as pd\n",
    "import seaborn as sns\n",
    "import numpy as np\n",
    "import matplotlib.pyplot as plt"
   ]
  },
  {
   "cell_type": "code",
   "execution_count": null,
   "metadata": {
    "collapsed": true
   },
   "outputs": [],
   "source": [
    "# Configuration\n",
    "pd.options.display.max_columns=100\n",
    "%matplotlib inline "
   ]
  },
  {
   "cell_type": "code",
   "execution_count": null,
   "metadata": {
    "collapsed": true
   },
   "outputs": [],
   "source": [
    "#Load and format data\n",
    "data = pd.read_csv('../inputs/loan.csv', low_memory=False,\n",
    "                   dtype={'term':np.str}, parse_dates=['last_pymnt_d','issue_d', 'term']\n",
    "                  )"
   ]
  },
  {
   "cell_type": "code",
   "execution_count": null,
   "metadata": {},
   "outputs": [],
   "source": [
    "data['issue_y']=data['issue_d'].apply(lambda x: x.year)\n",
    "data['last_pymnt_y']=data['last_pymnt_d'].apply(lambda x: x.year)"
   ]
  },
  {
   "cell_type": "code",
   "execution_count": null,
   "metadata": {},
   "outputs": [],
   "source": [
    "data['last_pymnt_d'].max()"
   ]
  },
  {
   "cell_type": "code",
   "execution_count": null,
   "metadata": {
    "collapsed": true
   },
   "outputs": [],
   "source": [
    "data.drop(['url', 'desc', 'annual_inc_joint', 'dti_joint',\n",
    "       'verification_status_joint', 'acc_now_delinq', 'tot_coll_amt',\n",
    "       'tot_cur_bal', 'open_acc_6m', 'open_il_6m', 'open_il_12m',\n",
    "       'open_il_24m', 'mths_since_rcnt_il', 'total_bal_il', 'il_util',\n",
    "       'open_rv_12m', 'open_rv_24m', 'max_bal_bc', 'all_util',\n",
    "       'total_rev_hi_lim', 'inq_fi', 'total_cu_tl', 'inq_last_12m',\n",
    "       'verification_status','revol_bal', 'revol_util', 'initial_list_status',\n",
    "       'collections_12_mths_ex_med', 'mths_since_last_major_derog',\n",
    "       'policy_code', 'application_type' ], axis=1, inplace=True);\n",
    "data.dtypes\n",
    "data.columns\n",
    "data=data.dropna(axis=1, how='all')\n",
    "#data=data.dropna(axis=0, how='any')"
   ]
  },
  {
   "cell_type": "code",
   "execution_count": null,
   "metadata": {},
   "outputs": [],
   "source": [
    "data['term'] = data['term'].apply(lambda x: x[0:3])\n",
    "data['term'] = pd.to_numeric(data['term'])\n",
    "data['pymnt_duration']=((data['effective_term']/ np.timedelta64(1, 'M')).round())\n",
    "data['pymnt_delay']=data['pymnt_duration']-data['term']"
   ]
  },
  {
   "cell_type": "code",
   "execution_count": null,
   "metadata": {
    "scrolled": true
   },
   "outputs": [],
   "source": [
    "plt.figure()\n",
    "plt1 = sns.countplot(x=\"issue_y\", data=data)\n",
    "plt1.set_xticklabels(labels=plt1.get_xticklabels(), rotation=45)\n",
    "plt1.show()"
   ]
  },
  {
   "cell_type": "code",
   "execution_count": null,
   "metadata": {},
   "outputs": [],
   "source": [
    "data.shape[0]\n",
    "# Select all loans that could potentienly go trough term + 6 month delay\n",
    "valid_data = data[ ( (data['issue_d'] < np.datetime64('2012-06-01')) & (data['term']==36) ) \n",
    "                | ( (data['issue_d'] < np.datetime64('2010-06-01')) & (data['term']==60) ) ]\n",
    "valid_data = valid_data[valid_data['term']<37]"
   ]
  },
  {
   "cell_type": "code",
   "execution_count": null,
   "metadata": {},
   "outputs": [],
   "source": [
    "valid_data.shape\n",
    "valid_data"
   ]
  },
  {
   "cell_type": "code",
   "execution_count": null,
   "metadata": {},
   "outputs": [],
   "source": [
    "sns.pairplot(data, size = 2.5, plot_kws={'alpha':0.005}, dropna=True)"
   ]
  },
  {
   "cell_type": "code",
   "execution_count": null,
   "metadata": {},
   "outputs": [],
   "source": [
    "plt.show()"
   ]
  },
  {
   "cell_type": "code",
   "execution_count": null,
   "metadata": {},
   "outputs": [],
   "source": [
    "plt.figure()\n",
    "plt1 = sns.countplot(x=\"issue_y\", data=data)\n",
    "plt1.set_xticklabels(labels=plt1.get_xticklabels(), rotation=45)\n",
    "plt.show()"
   ]
  },
  {
   "cell_type": "code",
   "execution_count": null,
   "metadata": {
    "scrolled": false
   },
   "outputs": [],
   "source": [
    "fully_paid = data[data['loan_status'].isin(['Fully Paid'])]\n",
    "fully_paid.shape\n",
    "fully_paid[fully_paid['pymnt_delay']>0].shape\n",
    "\n",
    "#plt.figure()\n",
    "#valid_data.boxplot(column='pymnt_delay', by='grade')\n",
    "#plt.show()\n",
    "#data[data['pymnt_delay']>0].head(2)\n",
    "#valida_data[valida_data['pymnt_delay']>0].describe"
   ]
  },
  {
   "cell_type": "code",
   "execution_count": null,
   "metadata": {
    "collapsed": true
   },
   "outputs": [],
   "source": [
    "valid_data['gain']=valid_data['total_pymnt']-valid_data['loan_amnt']\n",
    "valid_data['relative_gain']=valid_data['gain']/valid_data['loan_amnt']*100"
   ]
  },
  {
   "cell_type": "code",
   "execution_count": null,
   "metadata": {},
   "outputs": [],
   "source": [
    "sns.jointplot(x='pymnt_delay', y='relative_gain', data=valid_data, joint_kws={'alpha':0.08})\n",
    "plt.show()\n",
    "\n",
    "sns.jointplot(x='pymnt_delay', y='relative_gain', data=valid_data, joint_kws={'alpha':0.08}, xlim={0,5}, ylim={0,40})\n",
    "plt.show()\n",
    "\n",
    "plt.figure()\n",
    "data2 = valid_data[valid_data['pymnt_delay']>=0]\n",
    "data2.boxplot(column='relative_gain', by='pymnt_delay')\n",
    "data2.boxplot(column='relative_gain', by='pymnt_delay')\n",
    "plt.show()"
   ]
  },
  {
   "cell_type": "code",
   "execution_count": null,
   "metadata": {},
   "outputs": [],
   "source": [
    "data2.size\n",
    "data2[data2['pymnt_delay']==4].size"
   ]
  },
  {
   "cell_type": "code",
   "execution_count": null,
   "metadata": {},
   "outputs": [],
   "source": [
    "#Quel est le retour sur investissement de chaque prêt? Total/Annuel/Mensuel\n",
    "plt.figure()\n",
    "valid_data.boxplot(column='relative_gain', by='grade')\n",
    "plt.show()"
   ]
  },
  {
   "cell_type": "code",
   "execution_count": null,
   "metadata": {},
   "outputs": [],
   "source": [
    "plt.figure()\n",
    "plt1 = sns.countplot(x=\"loan_status\", data=valid_data)\n",
    "plt1.set_xticklabels(labels=plt1.get_xticklabels(), rotation=45)\n",
    "plt.show()"
   ]
  },
  {
   "cell_type": "code",
   "execution_count": null,
   "metadata": {},
   "outputs": [],
   "source": [
    "T=valid_data['pymnt_duration']\n",
    "G=valid_data['relative_gain']\n",
    "I=valid_data['loan_amnt']\n",
    "NAR = (np.power(np.abs((G/100+1)),12/T)-1) * ((G>0)-0.5)*2*100\n",
    "NAR=NAR.replace([np.inf, -np.inf], 0)\n",
    "valid_data['NAR']=NAR\n",
    "valid_data['NAR'].mean()"
   ]
  },
  {
   "cell_type": "code",
   "execution_count": null,
   "metadata": {},
   "outputs": [],
   "source": [
    "valid_data['int_rate'].mean()"
   ]
  },
  {
   "cell_type": "code",
   "execution_count": null,
   "metadata": {},
   "outputs": [],
   "source": [
    "plt.figure()\n",
    "valid_data.boxplot(column='int_rate', by='grade')\n",
    "plt.show()"
   ]
  },
  {
   "cell_type": "code",
   "execution_count": null,
   "metadata": {},
   "outputs": [],
   "source": [
    "plt.figure()\n",
    "valid_data.boxplot(column='NAR', by='grade', showfliers=False)\n",
    "plt.show()"
   ]
  },
  {
   "cell_type": "code",
   "execution_count": null,
   "metadata": {},
   "outputs": [],
   "source": [
    "valid_data"
   ]
  },
  {
   "cell_type": "code",
   "execution_count": null,
   "metadata": {
    "collapsed": true
   },
   "outputs": [],
   "source": []
  },
  {
   "cell_type": "code",
   "execution_count": 238,
   "metadata": {},
   "outputs": [
    {
     "data": {
      "text/plain": [
       "<matplotlib.axes._subplots.AxesSubplot at 0x1c2a660aa58>"
      ]
     },
     "execution_count": 238,
     "metadata": {},
     "output_type": "execute_result"
    },
    {
     "data": {
      "image/png": "[encoded data removed]",
      "text/plain": [
       "<matplotlib.figure.Figure at 0x1c2cccddc50>"
      ]
     },
     "metadata": {},
     "output_type": "display_data"
    }
   ],
   "source": [
    "sns.distplot(valid_data['loan_amnt'])\n",
    "sns.distplot(valid_data['loan_amnt'])\n",
    "sns.distplot(valid_data['loan_amnt'])\n",
    "sns.distplot(valid_data['loan_amnt'])\n",
    "sns.distplot(valid_data['loan_amnt'])\n",
    "sns.distplot(valid_data['loan_amnt'])\n",
    "sns.distplot(valid_data['loan_amnt'])"
   ]
  },
  {
   "cell_type": "code",
   "execution_count": 244,
   "metadata": {},
   "outputs": [
    {
     "data": {
      "image/png": "[encoded data removed]",
      "text/plain": [
       "<matplotlib.figure.Figure at 0x1c2d78ba208>"
      ]
     },
     "metadata": {},
     "output_type": "display_data"
    }
   ],
   "source": [
    "sns.jointplot(x=valid_data['loan_amnt'], y=valid_data['annual_inc'], kind=\"hex\", color=\"k\",ylim=[0,100000])\n",
    "plt.show()"
   ]
  },
  {
   "cell_type": "code",
   "execution_count": null,
   "metadata": {
    "collapsed": true
   },
   "outputs": [],
   "source": []
  }
 ],
 "metadata": {
  "kernelspec": {
   "display_name": "Python 3",
   "language": "python",
   "name": "python3"
  },
  "language_info": {
   "codemirror_mode": {
    "name": "ipython",
    "version": 3
   },
   "file_extension": ".py",
   "mimetype": "text/x-python",
   "name": "python",
   "nbconvert_exporter": "python",
   "pygments_lexer": "ipython3",
   "version": "3.6.1"
  }
 },
 "nbformat": 4,
 "nbformat_minor": 2
}
