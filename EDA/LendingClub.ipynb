{
 "cells": [
  {
   "cell_type": "markdown",
   "metadata": {},
   "source": [
    "<h1>Kaggle Lending Club</h1>\n",
    "<h2>Analyse exploratoire</h2>\n",
    "<h3>1 - Description des variables</h3>\n",
    "<ol>\n",
    "   <li>Variables liées au crédit : <br/>\n",
    "      <b>loan_amnt</b>\t      The listed amount of the loan applied for by the borrower. If at some point in time, the credit department reduces the loan amount, then it will be reflected in this value.<br/>\n",
    "      <b>funded_amnt</b>\t      The total amount committed to that loan at that point in time.<br/>\n",
    "      <b>funded_amnt_inv</b>\t  The total amount committed by investors for that loan at that point in time.<br/>\n",
    "      <b>term</b>               The number of payments on the loan. Values are in months and can be either 36 or 60.<br/>\n",
    "      <b>int_rate</b>\t          Interest Rate on the loan<br/>\n",
    "      <b>installment</b>\t      The monthly payment owed by the borrower if the loan originates.<br/>\n",
    "      <b>grade</b>\t          LC assigned loan grade<br/>\n",
    "      <b>sub_grade</b>\t      LC assigned loan subgrade<br/>\n",
    "      <b>issue_d</b>\tThe month which the loan was funded\n",
    "      <b>loan_status</b>\tCurrent status of the loan\n",
    "      <b>pymnt_plan</b>\tIndicates if a payment plan has been put in place for the loan\n",
    "      <b>purpose</b>\tA category provided by the borrower for the loan request. \n",
    "      <b>initial_list_status</b>\tThe initial listing status of the loan. Possible values are – W, F\n",
    "      <b>last_pymnt_d</b>\tLast month payment was received\n",
    "   </li>\n",
    "   <li> Variables liées à l'emprunteur  : <br/>\n",
    "      <b>emp_title</b>\tThe job title supplied by the Borrower when applying for the loan.<br/>\n",
    "      <b>emp_length</b>\tEmployment length in years. Possible values are between 0 and 10 where 0 means less than one year and 10 means ten or more years. <br/>\n",
    "      <b>home_ownership</b>\tThe home ownership status provided by the borrower during registration. Our values are: RENT, OWN, MORTGAGE, OTHER.<br/>\n",
    "      <b>annual_inc</b>\tThe self-reported annual income provided by the borrower during registration.<br/>\n",
    "      <b>verification_status</b>\tIndicates if the co-borrowers' joint income was verified by LC, not verified, or if the income source was verified<br/>\n",
    "   <b>zip_code</b>\tThe first 3 numbers of the zip code provided by the borrower in the loan application.<br/>\n",
    "   <b>addr_state</b>\tThe state provided by the borrower in the loan application<br/>\n",
    "   </li>\n",
    "   <li> Variables liées à l'emprunteur  : <br/>\n",
    "      <b>dti</b>\tA ratio calculated using the borrower’s total monthly debt payments on the total debt obligations, excluding mortgage and the requested LC loan, divided by the borrower’s self-reported monthly income.<br/>\n",
    "      <b>delinq_2yrs</b>\tThe number of 30+ days past-due incidences of delinquency in the borrower's credit file for the past 2 years<br/>\n",
    "      <b>earliest_cr_line</b>\tThe month the borrower's earliest reported credit line was opened<br/>\n",
    "      <b>inq_last_6mths</b>\tThe number of inquiries in past 6 months (excluding auto and mortgage inquiries)<br/>\n",
    "      <b>mths_since_last_delinq</b>\tThe number of months since the borrower's last delinquency.<br/>\n",
    "      <b>mths_since_last_record</b>\tThe number of months since the last public record.<br/>\n",
    "      <b>open_acc</b>\tThe number of open credit lines in the borrower's credit file.<br/>\n",
    "      <b>pub_rec</b>\tNumber of derogatory public records<br/>\n",
    "   </li>\n",
    "</ol>"
   ]
  },
  {
   "cell_type": "markdown",
   "metadata": {},
   "source": [
    "Chargement des données :"
   ]
  },
  {
   "cell_type": "code",
   "execution_count": 1,
   "metadata": {
    "collapsed": true
   },
   "outputs": [],
   "source": [
    "\n",
    "\n",
    "import pandas as pd\n",
    "import seaborn as sns\n",
    "import numpy as np\n",
    "import matplotlib.pyplot as plt\n",
    "\n",
    "# Configuration\n",
    "pd.options.display.max_columns=100\n",
    "%matplotlib inline\n",
    "\n",
    "#Load and format data\n",
    "data = pd.read_csv('../inputs/loan.csv', low_memory=False,\n",
    "                   dtype={'term':np.str},\n",
    "                   parse_dates=['last_pymnt_d','issue_d', 'term']\n",
    "                  )\n",
    "\n",
    "data.drop(['url', 'desc', 'annual_inc_joint', 'dti_joint',\n",
    "       'verification_status_joint', 'acc_now_delinq', 'tot_coll_amt',\n",
    "       'tot_cur_bal', 'open_acc_6m', 'open_il_6m', 'open_il_12m',\n",
    "       'open_il_24m', 'mths_since_rcnt_il', 'total_bal_il', 'il_util',\n",
    "       'open_rv_12m', 'open_rv_24m', 'max_bal_bc', 'all_util',\n",
    "       'total_rev_hi_lim', 'inq_fi', 'total_cu_tl', 'inq_last_12m',\n",
    "       'verification_status','revol_bal', 'revol_util', 'initial_list_status',\n",
    "       'collections_12_mths_ex_med', 'mths_since_last_major_derog',\n",
    "       'policy_code', 'application_type' ], axis=1, inplace=True);\n",
    "data=data.dropna(axis=1, how='all')"
   ]
  },
  {
   "cell_type": "code",
   "execution_count": 2,
   "metadata": {},
   "outputs": [
    {
     "data": {
      "text/plain": [
       "dtype('float64')"
      ]
     },
     "execution_count": 2,
     "metadata": {},
     "output_type": "execute_result"
    }
   ],
   "source": [
    "data['annual_inc'].dtypes"
   ]
  },
  {
   "cell_type": "markdown",
   "metadata": {},
   "source": [
    "<h3>2 - Compréhension des variables</h3>\n",
    "<br/>\n",
    "\n",
    "Peut-on amalgamer funded_amnt_inv et loan_amnt ?<br/>\n",
    "Oui. Différence relative entre la somme cumulée des deux variables :"
   ]
  },
  {
   "cell_type": "code",
   "execution_count": 3,
   "metadata": {},
   "outputs": [
    {
     "data": {
      "text/plain": [
       "0.3578398847682243"
      ]
     },
     "execution_count": 3,
     "metadata": {},
     "output_type": "execute_result"
    }
   ],
   "source": [
    "(data['loan_amnt'].sum()-data['funded_amnt_inv'].sum())/data['loan_amnt'].sum()*100"
   ]
  },
  {
   "cell_type": "markdown",
   "metadata": {},
   "source": [
    "<h3>3 - Prêts : </h3>"
   ]
  },
  {
   "cell_type": "code",
   "execution_count": 4,
   "metadata": {},
   "outputs": [],
   "source": [
    "data['last_pymnt_y']=data['last_pymnt_d'].apply(lambda x: x.year)\n",
    "data['last_pymnt_d'].max()\n",
    "data['term'] = data['term'].apply(lambda x: x[0:3])\n",
    "data['term'] = pd.to_numeric(data['term'])\n",
    "data['effective_term'] = data['last_pymnt_d'] - data['issue_d']\n",
    "data['pymnt_duration'] = ((data['effective_term'] / np.timedelta64(1, 'M')).round())\n",
    "data['pymnt_delay']=data['pymnt_duration']-data['term']"
   ]
  },
  {
   "cell_type": "code",
   "execution_count": 5,
   "metadata": {
    "collapsed": true
   },
   "outputs": [],
   "source": [
    "data['issue_y']=data['issue_d'].apply(lambda x: x.year)"
   ]
  },
  {
   "cell_type": "markdown",
   "metadata": {},
   "source": [
    "Evolution exponentielle du volume des emprunts émis :"
   ]
  },
  {
   "cell_type": "code",
   "execution_count": 6,
   "metadata": {
    "scrolled": false
   },
   "outputs": [
    {
     "data": {
      "image/png": "[encoded data removed]",
      "text/plain": [
       "<matplotlib.figure.Figure at 0x1b1ebfa1358>"
      ]
     },
     "metadata": {},
     "output_type": "display_data"
    }
   ],
   "source": [
    "total_loan = pd.Series(data.groupby('issue_y')['loan_amnt'].sum())\n",
    "plt.plot(total_loan)\n",
    "plt.title('Evolution du volume total des emprunts')\n",
    "plt.xlabel('Année')\n",
    "plt.ylabel('Montant annuel des emprunts')\n",
    "plt.show()"
   ]
  },
  {
   "cell_type": "markdown",
   "metadata": {},
   "source": [
    "Détaillons par statut de l'emprunt :"
   ]
  },
  {
   "cell_type": "code",
   "execution_count": 7,
   "metadata": {},
   "outputs": [
    {
     "data": {
      "text/plain": [
       "array(['Fully Paid', 'Charged Off', 'Current', 'Default',\n",
       "       'Late (31-120 days)', 'In Grace Period', 'Late (16-30 days)',\n",
       "       'Does not meet the credit policy. Status:Fully Paid',\n",
       "       'Does not meet the credit policy. Status:Charged Off', 'Issued'], dtype=object)"
      ]
     },
     "execution_count": 7,
     "metadata": {},
     "output_type": "execute_result"
    }
   ],
   "source": [
    "data['loan_status'].unique()"
   ]
  },
  {
   "cell_type": "code",
   "execution_count": 8,
   "metadata": {
    "scrolled": false
   },
   "outputs": [
    {
     "data": {
      "image/png": "[encoded data removed]",
      "text/plain": [
       "<matplotlib.figure.Figure at 0x1b1ebf96518>"
      ]
     },
     "metadata": {},
     "output_type": "display_data"
    }
   ],
   "source": [
    "term2display = 36\n",
    "data2disp=data[(data['term']==term2display) & (data['loan_status'].isin(['Current','Fully Paid', 'Charged Off']))]\n",
    "plt2 = sns.countplot(x=\"issue_y\", data=data2disp, hue='loan_status', orient='h')\n",
    "plt2.set_xticklabels(labels=plt2.get_xticklabels(), rotation=45);"
   ]
  },
  {
   "cell_type": "code",
   "execution_count": 9,
   "metadata": {},
   "outputs": [],
   "source": [
    "#plt2 = sns.countplot(x=\"issue_y\", data=data, hue='term', orient='h')\n",
    "#plt2.set_xticklabels(labels=plt2.get_xticklabels(), rotation=45);"
   ]
  },
  {
   "cell_type": "code",
   "execution_count": 10,
   "metadata": {},
   "outputs": [
    {
     "data": {
      "text/plain": [
       "Timestamp('2016-01-01 00:00:00')"
      ]
     },
     "execution_count": 10,
     "metadata": {},
     "output_type": "execute_result"
    }
   ],
   "source": [
    "data['last_pymnt_d'].max()"
   ]
  },
  {
   "cell_type": "markdown",
   "metadata": {},
   "source": [
    "Graph précédent = combinaison de 2 phénomènes.\n",
    "Premièrement, augmentation globale de l émission de crédit (croissance naturelle de la plateforme LC)\n",
    "Deuxièment, pour les crédits sur 3 ans, augmentation des Current sur ces trois dernières années\n",
    "\n",
    "On filtre sur la base sur les dates qui permettent au loan d'arriver à terme :"
   ]
  },
  {
   "cell_type": "code",
   "execution_count": 11,
   "metadata": {},
   "outputs": [
    {
     "data": {
      "text/plain": [
       "(41197, 48)"
      ]
     },
     "execution_count": 11,
     "metadata": {},
     "output_type": "execute_result"
    }
   ],
   "source": [
    "valid_data = data[  ( (data['loan_status'].isin(['Fully Paid', 'Charged Off'])) &\n",
    "                ( (data['issue_d'] < np.datetime64('2012-06-01')) & (data['term']==36) ) \n",
    "                | ( (data['issue_d'] < np.datetime64('2010-06-01')) & (data['term']==60) ) ) ].copy(deep=True)\n",
    "\n",
    "valid_data.shape"
   ]
  },
  {
   "cell_type": "code",
   "execution_count": 12,
   "metadata": {},
   "outputs": [
    {
     "ename": "NameError",
     "evalue": "name 'b' is not defined",
     "output_type": "error",
     "traceback": [
      "\u001b[1;31m---------------------------------------------------------------------------\u001b[0m",
      "\u001b[1;31mNameError\u001b[0m                                 Traceback (most recent call last)",
      "\u001b[1;32m<ipython-input-12-f3faa939ae69>\u001b[0m in \u001b[0;36m<module>\u001b[1;34m()\u001b[0m\n\u001b[0;32m      1\u001b[0m \u001b[0mplt2\u001b[0m \u001b[1;33m=\u001b[0m \u001b[0msns\u001b[0m\u001b[1;33m.\u001b[0m\u001b[0mcountplot\u001b[0m\u001b[1;33m(\u001b[0m\u001b[0mx\u001b[0m\u001b[1;33m=\u001b[0m\u001b[1;34m\"issue_y\"\u001b[0m\u001b[1;33m,\u001b[0m \u001b[0mdata\u001b[0m\u001b[1;33m=\u001b[0m\u001b[0mvalid_data\u001b[0m\u001b[1;33m,\u001b[0m \u001b[0mhue\u001b[0m\u001b[1;33m=\u001b[0m\u001b[1;34m'loan_status'\u001b[0m\u001b[1;33m,\u001b[0m \u001b[0morient\u001b[0m\u001b[1;33m=\u001b[0m\u001b[1;34m'h'\u001b[0m\u001b[1;33m)\u001b[0m\u001b[1;33m\u001b[0m\u001b[0m\n\u001b[1;32m----> 2\u001b[1;33m \u001b[0mplt2\u001b[0m\u001b[1;33m.\u001b[0m\u001b[0mset_xticklabels\u001b[0m\u001b[1;33m(\u001b[0m\u001b[0mlabels\u001b[0m\u001b[1;33m=\u001b[0m\u001b[0mplt2\u001b[0m\u001b[1;33m.\u001b[0m\u001b[0mget_xticklabels\u001b[0m\u001b[1;33m(\u001b[0m\u001b[1;33m)\u001b[0m\u001b[1;33m,\u001b[0m \u001b[0mrotation\u001b[0m\u001b[1;33m=\u001b[0m\u001b[1;36m45\u001b[0m\u001b[1;33m)\u001b[0m\u001b[1;33m;\u001b[0m\u001b[0mb\u001b[0m\u001b[1;33m\u001b[0m\u001b[0m\n\u001b[0m",
      "\u001b[1;31mNameError\u001b[0m: name 'b' is not defined"
     ]
    },
    {
     "data": {
      "image/png": "[encoded data removed]",
      "text/plain": [
       "<matplotlib.figure.Figure at 0x1b1875284a8>"
      ]
     },
     "metadata": {},
     "output_type": "display_data"
    }
   ],
   "source": [
    "plt2 = sns.countplot(x=\"issue_y\", data=valid_data, hue='loan_status', orient='h')\n",
    "plt2.set_xticklabels(labels=plt2.get_xticklabels(), rotation=45);b"
   ]
  },
  {
   "cell_type": "markdown",
   "metadata": {},
   "source": [
    "Remarque : sur ce dernier graphe : 2012 => le count se fait sur 6 mois seulement"
   ]
  },
  {
   "cell_type": "markdown",
   "metadata": {},
   "source": [
    "<h3>4 - Emprunteurs</h3>\n",
    "<br/>\n",
    "Evaluation des emprunteurs par le délai de paiement sur leur loan (en mois) => pymnt_delay.<br/>"
   ]
  },
  {
   "cell_type": "code",
   "execution_count": 13,
   "metadata": {},
   "outputs": [
    {
     "data": {
      "text/plain": [
       "<matplotlib.figure.Figure at 0x1b196baa438>"
      ]
     },
     "execution_count": 13,
     "metadata": {},
     "output_type": "execute_result"
    },
    {
     "data": {
      "image/png": "[encoded data removed]",
      "text/plain": [
       "<matplotlib.figure.Figure at 0x1b1abfcdf60>"
      ]
     },
     "metadata": {},
     "output_type": "display_data"
    },
    {
     "data": {
      "text/plain": [
       "<matplotlib.figure.Figure at 0x1b196baa438>"
      ]
     },
     "metadata": {},
     "output_type": "display_data"
    }
   ],
   "source": [
    "data_delay = valid_data[(valid_data['pymnt_delay']>=2) & (valid_data['loan_status'].isin(['Fully Paid']))]\n",
    "sns.countplot(x='pymnt_delay', data=data_delay, hue='loan_status', orient='h')\n",
    "plt.figure()"
   ]
  },
  {
   "cell_type": "code",
   "execution_count": null,
   "metadata": {},
   "outputs": [],
   "source": [
    "dataviz['annual_inc'].quantile(0.9)"
   ]
  },
  {
   "cell_type": "markdown",
   "metadata": {},
   "source": [
    "Corrélation de ce délai avec les données sur le users :"
   ]
  },
  {
   "cell_type": "code",
   "execution_count": null,
   "metadata": {},
   "outputs": [],
   "source": [
    "valid_data.groupby('zip_code').mean()['pymnt_delay']"
   ]
  },
  {
   "cell_type": "code",
   "execution_count": null,
   "metadata": {},
   "outputs": [],
   "source": [
    "plt.figure()\n",
    "dataviz = valid_data[['pymnt_delay', 'annual_inc']]\n",
    "dataviz = dataviz[ dataviz['annual_inc'] < dataviz['annual_inc'].quantile(0.9) ]\n",
    "dataviz['pymnt_delay']\n",
    "\n",
    "sns.jointplot(x='annual_inc', y='pymnt_delay', data=dataviz, joint_kws={'alpha':0.008})\n",
    "plt.show()\n",
    "\n",
    "valid_data.groupby('home_ownership').sum()\n",
    "sns.countplot(x=\"pymnt_delay\", data=valid_data, hue='home_ownership', orient='h')\n",
    "plt2.set_xticklabels(labels=plt2.get_xticklabels(), rotation=45);b"
   ]
  },
  {
   "cell_type": "code",
   "execution_count": null,
   "metadata": {},
   "outputs": [],
   "source": [
    "valid_data['gain']=valid_data['total_pymnt']-valid_data['loan_amnt']\n",
    "valid_data['relative_gain']=valid_data['gain']/valid_data['loan_amnt']*100"
   ]
  },
  {
   "cell_type": "code",
   "execution_count": null,
   "metadata": {},
   "outputs": [],
   "source": [
    "sns.jointplot(x='pymnt_delay', y='relative_gain', data=valid_data, joint_kws={'alpha':0.08})\n",
    "plt.show()\n",
    "\n",
    "sns.jointplot(x='pymnt_delay', y='relative_gain', data=valid_data, joint_kws={'alpha':0.08}, xlim={0,5}, ylim={0,40})\n",
    "plt.show()\n",
    "\n",
    "plt.figure()\n",
    "data2 = valid_data[valid_data['pymnt_delay']>=0]\n",
    "data2.boxplot(column='relative_gain', by='pymnt_delay')\n",
    "data2.boxplot(column='relative_gain', by='pymnt_delay')\n",
    "plt.show()"
   ]
  },
  {
   "cell_type": "code",
   "execution_count": null,
   "metadata": {
    "collapsed": true
   },
   "outputs": [],
   "source": [
    "data2.size\n",
    "data2[data2['pymnt_delay']==4].size"
   ]
  },
  {
   "cell_type": "code",
   "execution_count": null,
   "metadata": {
    "collapsed": true
   },
   "outputs": [],
   "source": [
    "#Quel est le retour sur investissement de chaque prêt? Total/Annuel/Mensuel\n",
    "plt.figure()\n",
    "valid_data.boxplot(column='relative_gain', by='grade')\n",
    "plt.show()"
   ]
  },
  {
   "cell_type": "code",
   "execution_count": null,
   "metadata": {
    "collapsed": true
   },
   "outputs": [],
   "source": [
    "plt.figure()\n",
    "plt1 = sns.countplot(x=\"loan_status\", data=valid_data)\n",
    "plt1.set_xticklabels(labels=plt1.get_xticklabels(), rotation=45)\n",
    "plt.show()"
   ]
  },
  {
   "cell_type": "code",
   "execution_count": null,
   "metadata": {
    "collapsed": true
   },
   "outputs": [],
   "source": [
    "T=valid_data['pymnt_duration']\n",
    "G=valid_data['relative_gain']\n",
    "I=valid_data['loan_amnt']\n",
    "NAR = (np.power(np.abs((G/100+1)),12/T)-1) * ((G>0)-0.5)*2*100\n",
    "NAR=NAR.replace([np.inf, -np.inf], 0)\n",
    "valid_data['NAR']=NAR\n",
    "valid_data['NAR'].mean()"
   ]
  },
  {
   "cell_type": "code",
   "execution_count": null,
   "metadata": {
    "collapsed": true
   },
   "outputs": [],
   "source": [
    "valid_data['int_rate'].mean()"
   ]
  },
  {
   "cell_type": "code",
   "execution_count": null,
   "metadata": {
    "collapsed": true
   },
   "outputs": [],
   "source": [
    "plt.figure()\n",
    "valid_data.boxplot(column='int_rate', by='grade')\n",
    "plt.show()"
   ]
  },
  {
   "cell_type": "code",
   "execution_count": null,
   "metadata": {
    "collapsed": true
   },
   "outputs": [],
   "source": [
    "plt.figure()\n",
    "valid_data.boxplot(column='NAR', by='grade', showfliers=False)\n",
    "plt.show()"
   ]
  },
  {
   "cell_type": "code",
   "execution_count": null,
   "metadata": {
    "collapsed": true
   },
   "outputs": [],
   "source": [
    "valid_data"
   ]
  },
  {
   "cell_type": "code",
   "execution_count": null,
   "metadata": {
    "collapsed": true
   },
   "outputs": [],
   "source": []
  },
  {
   "cell_type": "code",
   "execution_count": null,
   "metadata": {},
   "outputs": [],
   "source": [
    "sns.distplot(valid_data['loan_amnt'])\n",
    "sns.distplot(valid_data['loan_amnt'])\n",
    "sns.distplot(valid_data['loan_amnt'])\n",
    "sns.distplot(valid_data['loan_amnt'])\n",
    "sns.distplot(valid_data['loan_amnt'])\n",
    "sns.distplot(valid_data['loan_amnt'])\n",
    "sns.distplot(valid_data['loan_amnt'])"
   ]
  },
  {
   "cell_type": "code",
   "execution_count": null,
   "metadata": {},
   "outputs": [],
   "source": [
    "sns.jointplot(x=valid_data['loan_amnt'], y=valid_data['annual_inc'], kind=\"hex\", color=\"k\",ylim=[0,100000])\n",
    "plt.show()"
   ]
  },
  {
   "cell_type": "code",
   "execution_count": null,
   "metadata": {
    "collapsed": true
   },
   "outputs": [],
   "source": []
  }
 ],
 "metadata": {
  "kernelspec": {
   "display_name": "Python 3",
   "language": "python",
   "name": "python3"
  },
  "language_info": {
   "codemirror_mode": {
    "name": "ipython",
    "version": 3
   },
   "file_extension": ".py",
   "mimetype": "text/x-python",
   "name": "python",
   "nbconvert_exporter": "python",
   "pygments_lexer": "ipython3",
   "version": "3.6.1"
  }
 },
 "nbformat": 4,
 "nbformat_minor": 2
}
