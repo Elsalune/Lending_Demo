{
 "cells": [
  {
   "cell_type": "markdown",
   "metadata": {},
   "source": [
    "<h1>Kaggle Lending Club</h1>\n",
    "<h2>Spécification du problème</h2>"
   ]
  },
  {
   "cell_type": "markdown",
   "metadata": {},
   "source": [
    "<h3>Variables</h3>\n",
    "<ol>\n",
    "   <li>Variables liées au crédit : <br/>\n",
    "      <b>loan_amnt</b>\t      The listed amount of the loan applied for by the borrower. If at some point in time, the credit department reduces the loan amount, then it will be reflected in this value.<br/>\n",
    "      <b>funded_amnt</b>\t      The total amount committed to that loan at that point in time.<br/>\n",
    "      <b>funded_amnt_inv</b>\t  The total amount committed by investors for that loan at that point in time.<br/>\n",
    "      <b>term</b>               The number of payments on the loan. Values are in months and can be either 36 or 60.<br/>\n",
    "      <b>int_rate</b>\t          Interest Rate on the loan<br/>\n",
    "      <b>installment</b>\t      The monthly payment owed by the borrower if the loan originates.<br/>\n",
    "      <b>grade</b>\t          LC assigned loan grade<br/>\n",
    "      <b>sub_grade</b>\t      LC assigned loan subgrade<br/>\n",
    "      <b>issue_d</b>\tThe month which the loan was funded\n",
    "      <b>loan_status</b>\tCurrent status of the loan\n",
    "      <b>pymnt_plan</b>\tIndicates if a payment plan has been put in place for the loan\n",
    "      <b>purpose</b>\tA category provided by the borrower for the loan request. \n",
    "      <b>initial_list_status</b>\tThe initial listing status of the loan. Possible values are – W, F\n",
    "      <b>last_pymnt_d</b>\tLast month payment was received\n",
    "   </li>\n",
    "   <li> Variables liées à l'emprunteur  : <br/>\n",
    "      <b>emp_title</b>\tThe job title supplied by the Borrower when applying for the loan.<br/>\n",
    "      <b>emp_length</b>\tEmployment length in years. Possible values are between 0 and 10 where 0 means less than one year and 10 means ten or more years. <br/>\n",
    "      <b>home_ownership</b>\tThe home ownership status provided by the borrower during registration. Our values are: RENT, OWN, MORTGAGE, OTHER.<br/>\n",
    "      <b>annual_inc</b>\tThe self-reported annual income provided by the borrower during registration.<br/>\n",
    "      <b>verification_status</b>\tIndicates if the co-borrowers' joint income was verified by LC, not verified, or if the income source was verified<br/>\n",
    "   <b>zip_code</b>\tThe first 3 numbers of the zip code provided by the borrower in the loan application.<br/>\n",
    "   <b>addr_state</b>\tThe state provided by the borrower in the loan application<br/>\n",
    "   </li>\n",
    "   <li> Variables liées à la qualité de l'emprunteur  : <br/>\n",
    "      <b>dti</b>\tA ratio calculated using the borrower’s total monthly debt payments on the total debt obligations, excluding mortgage and the requested LC loan, divided by the borrower’s self-reported monthly income.<br/>\n",
    "      <b>delinq_2yrs</b>\tThe number of 30+ days past-due incidences of delinquency in the borrower's credit file for the past 2 years<br/>\n",
    "      <b>earliest_cr_line</b>\tThe month the borrower's earliest reported credit line was opened<br/>\n",
    "      <b>inq_last_6mths</b>\tThe number of inquiries in past 6 months (excluding auto and mortgage inquiries)<br/>\n",
    "      <b>mths_since_last_delinq</b>\tThe number of months since the borrower's last delinquency.<br/>\n",
    "      <b>mths_since_last_record</b>\tThe number of months since the last public record.<br/>\n",
    "      <b>open_acc</b>\tThe number of open credit lines in the borrower's credit file.<br/>\n",
    "      <b>pub_rec</b>\tNumber of derogatory public records<br/>\n",
    "   </li>\n",
    "</ol>"
   ]
  },
  {
   "cell_type": "markdown",
   "metadata": {},
   "source": [
    "<h2>Analyse &amp; cleaning des données fournies</h2>"
   ]
  },
  {
   "cell_type": "code",
   "execution_count": 1,
   "metadata": {},
   "outputs": [
    {
     "data": {
      "text/html": [
       "<div>\n",
       "<style>\n",
       "    .dataframe thead tr:only-child th {\n",
       "        text-align: right;\n",
       "    }\n",
       "\n",
       "    .dataframe thead th {\n",
       "        text-align: left;\n",
       "    }\n",
       "\n",
       "    .dataframe tbody tr th {\n",
       "        vertical-align: top;\n",
       "    }\n",
       "</style>\n",
       "<table border=\"1\" class=\"dataframe\">\n",
       "  <thead>\n",
       "    <tr style=\"text-align: right;\">\n",
       "      <th></th>\n",
       "      <th>id</th>\n",
       "      <th>member_id</th>\n",
       "      <th>loan_amnt</th>\n",
       "      <th>funded_amnt</th>\n",
       "      <th>funded_amnt_inv</th>\n",
       "      <th>term</th>\n",
       "      <th>int_rate</th>\n",
       "      <th>installment</th>\n",
       "      <th>grade</th>\n",
       "      <th>sub_grade</th>\n",
       "      <th>emp_title</th>\n",
       "      <th>emp_length</th>\n",
       "      <th>home_ownership</th>\n",
       "      <th>annual_inc</th>\n",
       "      <th>verification_status</th>\n",
       "      <th>issue_d</th>\n",
       "      <th>loan_status</th>\n",
       "      <th>pymnt_plan</th>\n",
       "      <th>url</th>\n",
       "      <th>desc</th>\n",
       "      <th>purpose</th>\n",
       "      <th>title</th>\n",
       "      <th>zip_code</th>\n",
       "      <th>addr_state</th>\n",
       "      <th>dti</th>\n",
       "      <th>delinq_2yrs</th>\n",
       "      <th>earliest_cr_line</th>\n",
       "      <th>inq_last_6mths</th>\n",
       "      <th>mths_since_last_delinq</th>\n",
       "      <th>mths_since_last_record</th>\n",
       "      <th>open_acc</th>\n",
       "      <th>pub_rec</th>\n",
       "      <th>revol_bal</th>\n",
       "      <th>revol_util</th>\n",
       "      <th>total_acc</th>\n",
       "      <th>initial_list_status</th>\n",
       "      <th>out_prncp</th>\n",
       "      <th>out_prncp_inv</th>\n",
       "      <th>total_pymnt</th>\n",
       "      <th>total_pymnt_inv</th>\n",
       "      <th>total_rec_prncp</th>\n",
       "      <th>total_rec_int</th>\n",
       "      <th>total_rec_late_fee</th>\n",
       "      <th>recoveries</th>\n",
       "      <th>collection_recovery_fee</th>\n",
       "      <th>last_pymnt_d</th>\n",
       "      <th>last_pymnt_amnt</th>\n",
       "      <th>next_pymnt_d</th>\n",
       "      <th>last_credit_pull_d</th>\n",
       "      <th>collections_12_mths_ex_med</th>\n",
       "      <th>mths_since_last_major_derog</th>\n",
       "      <th>policy_code</th>\n",
       "      <th>application_type</th>\n",
       "      <th>annual_inc_joint</th>\n",
       "      <th>dti_joint</th>\n",
       "      <th>verification_status_joint</th>\n",
       "      <th>acc_now_delinq</th>\n",
       "      <th>tot_coll_amt</th>\n",
       "      <th>tot_cur_bal</th>\n",
       "      <th>open_acc_6m</th>\n",
       "      <th>open_il_6m</th>\n",
       "      <th>open_il_12m</th>\n",
       "      <th>open_il_24m</th>\n",
       "      <th>mths_since_rcnt_il</th>\n",
       "      <th>total_bal_il</th>\n",
       "      <th>il_util</th>\n",
       "      <th>open_rv_12m</th>\n",
       "      <th>open_rv_24m</th>\n",
       "      <th>max_bal_bc</th>\n",
       "      <th>all_util</th>\n",
       "      <th>total_rev_hi_lim</th>\n",
       "      <th>inq_fi</th>\n",
       "      <th>total_cu_tl</th>\n",
       "      <th>inq_last_12m</th>\n",
       "    </tr>\n",
       "  </thead>\n",
       "  <tbody>\n",
       "    <tr>\n",
       "      <th>0</th>\n",
       "      <td>1077501</td>\n",
       "      <td>1296599</td>\n",
       "      <td>5000.0</td>\n",
       "      <td>5000.0</td>\n",
       "      <td>4975.0</td>\n",
       "      <td>36 months</td>\n",
       "      <td>10.65</td>\n",
       "      <td>162.87</td>\n",
       "      <td>B</td>\n",
       "      <td>B2</td>\n",
       "      <td>NaN</td>\n",
       "      <td>10+ years</td>\n",
       "      <td>RENT</td>\n",
       "      <td>24000.0</td>\n",
       "      <td>Verified</td>\n",
       "      <td>2011-12-01</td>\n",
       "      <td>Fully Paid</td>\n",
       "      <td>n</td>\n",
       "      <td>https://www.lendingclub.com/browse/loanDetail....</td>\n",
       "      <td>Borrower added on 12/22/11 &gt; I need to upgra...</td>\n",
       "      <td>credit_card</td>\n",
       "      <td>Computer</td>\n",
       "      <td>860xx</td>\n",
       "      <td>AZ</td>\n",
       "      <td>27.65</td>\n",
       "      <td>0.0</td>\n",
       "      <td>1985-01-01</td>\n",
       "      <td>1.0</td>\n",
       "      <td>NaN</td>\n",
       "      <td>NaN</td>\n",
       "      <td>3.0</td>\n",
       "      <td>0.0</td>\n",
       "      <td>13648.0</td>\n",
       "      <td>83.7</td>\n",
       "      <td>9.0</td>\n",
       "      <td>f</td>\n",
       "      <td>0.0</td>\n",
       "      <td>0.0</td>\n",
       "      <td>5861.071414</td>\n",
       "      <td>5831.78</td>\n",
       "      <td>5000.00</td>\n",
       "      <td>861.07</td>\n",
       "      <td>0.00</td>\n",
       "      <td>0.00</td>\n",
       "      <td>0.00</td>\n",
       "      <td>2015-01-01</td>\n",
       "      <td>171.62</td>\n",
       "      <td>NaN</td>\n",
       "      <td>2016-01-01</td>\n",
       "      <td>0.0</td>\n",
       "      <td>NaN</td>\n",
       "      <td>1.0</td>\n",
       "      <td>INDIVIDUAL</td>\n",
       "      <td>NaN</td>\n",
       "      <td>NaN</td>\n",
       "      <td>NaN</td>\n",
       "      <td>0.0</td>\n",
       "      <td>NaN</td>\n",
       "      <td>NaN</td>\n",
       "      <td>NaN</td>\n",
       "      <td>NaN</td>\n",
       "      <td>NaN</td>\n",
       "      <td>NaN</td>\n",
       "      <td>NaN</td>\n",
       "      <td>NaN</td>\n",
       "      <td>NaN</td>\n",
       "      <td>NaN</td>\n",
       "      <td>NaN</td>\n",
       "      <td>NaN</td>\n",
       "      <td>NaN</td>\n",
       "      <td>NaN</td>\n",
       "      <td>NaN</td>\n",
       "      <td>NaN</td>\n",
       "      <td>NaN</td>\n",
       "    </tr>\n",
       "    <tr>\n",
       "      <th>1</th>\n",
       "      <td>1077430</td>\n",
       "      <td>1314167</td>\n",
       "      <td>2500.0</td>\n",
       "      <td>2500.0</td>\n",
       "      <td>2500.0</td>\n",
       "      <td>60 months</td>\n",
       "      <td>15.27</td>\n",
       "      <td>59.83</td>\n",
       "      <td>C</td>\n",
       "      <td>C4</td>\n",
       "      <td>Ryder</td>\n",
       "      <td>&lt; 1 year</td>\n",
       "      <td>RENT</td>\n",
       "      <td>30000.0</td>\n",
       "      <td>Source Verified</td>\n",
       "      <td>2011-12-01</td>\n",
       "      <td>Charged Off</td>\n",
       "      <td>n</td>\n",
       "      <td>https://www.lendingclub.com/browse/loanDetail....</td>\n",
       "      <td>Borrower added on 12/22/11 &gt; I plan to use t...</td>\n",
       "      <td>car</td>\n",
       "      <td>bike</td>\n",
       "      <td>309xx</td>\n",
       "      <td>GA</td>\n",
       "      <td>1.00</td>\n",
       "      <td>0.0</td>\n",
       "      <td>1999-04-01</td>\n",
       "      <td>5.0</td>\n",
       "      <td>NaN</td>\n",
       "      <td>NaN</td>\n",
       "      <td>3.0</td>\n",
       "      <td>0.0</td>\n",
       "      <td>1687.0</td>\n",
       "      <td>9.4</td>\n",
       "      <td>4.0</td>\n",
       "      <td>f</td>\n",
       "      <td>0.0</td>\n",
       "      <td>0.0</td>\n",
       "      <td>1008.710000</td>\n",
       "      <td>1008.71</td>\n",
       "      <td>456.46</td>\n",
       "      <td>435.17</td>\n",
       "      <td>0.00</td>\n",
       "      <td>117.08</td>\n",
       "      <td>1.11</td>\n",
       "      <td>2013-04-01</td>\n",
       "      <td>119.66</td>\n",
       "      <td>NaN</td>\n",
       "      <td>2013-09-01</td>\n",
       "      <td>0.0</td>\n",
       "      <td>NaN</td>\n",
       "      <td>1.0</td>\n",
       "      <td>INDIVIDUAL</td>\n",
       "      <td>NaN</td>\n",
       "      <td>NaN</td>\n",
       "      <td>NaN</td>\n",
       "      <td>0.0</td>\n",
       "      <td>NaN</td>\n",
       "      <td>NaN</td>\n",
       "      <td>NaN</td>\n",
       "      <td>NaN</td>\n",
       "      <td>NaN</td>\n",
       "      <td>NaN</td>\n",
       "      <td>NaN</td>\n",
       "      <td>NaN</td>\n",
       "      <td>NaN</td>\n",
       "      <td>NaN</td>\n",
       "      <td>NaN</td>\n",
       "      <td>NaN</td>\n",
       "      <td>NaN</td>\n",
       "      <td>NaN</td>\n",
       "      <td>NaN</td>\n",
       "      <td>NaN</td>\n",
       "      <td>NaN</td>\n",
       "    </tr>\n",
       "    <tr>\n",
       "      <th>2</th>\n",
       "      <td>1077175</td>\n",
       "      <td>1313524</td>\n",
       "      <td>2400.0</td>\n",
       "      <td>2400.0</td>\n",
       "      <td>2400.0</td>\n",
       "      <td>36 months</td>\n",
       "      <td>15.96</td>\n",
       "      <td>84.33</td>\n",
       "      <td>C</td>\n",
       "      <td>C5</td>\n",
       "      <td>NaN</td>\n",
       "      <td>10+ years</td>\n",
       "      <td>RENT</td>\n",
       "      <td>12252.0</td>\n",
       "      <td>Not Verified</td>\n",
       "      <td>2011-12-01</td>\n",
       "      <td>Fully Paid</td>\n",
       "      <td>n</td>\n",
       "      <td>https://www.lendingclub.com/browse/loanDetail....</td>\n",
       "      <td>NaN</td>\n",
       "      <td>small_business</td>\n",
       "      <td>real estate business</td>\n",
       "      <td>606xx</td>\n",
       "      <td>IL</td>\n",
       "      <td>8.72</td>\n",
       "      <td>0.0</td>\n",
       "      <td>2001-11-01</td>\n",
       "      <td>2.0</td>\n",
       "      <td>NaN</td>\n",
       "      <td>NaN</td>\n",
       "      <td>2.0</td>\n",
       "      <td>0.0</td>\n",
       "      <td>2956.0</td>\n",
       "      <td>98.5</td>\n",
       "      <td>10.0</td>\n",
       "      <td>f</td>\n",
       "      <td>0.0</td>\n",
       "      <td>0.0</td>\n",
       "      <td>3003.653644</td>\n",
       "      <td>3003.65</td>\n",
       "      <td>2400.00</td>\n",
       "      <td>603.65</td>\n",
       "      <td>0.00</td>\n",
       "      <td>0.00</td>\n",
       "      <td>0.00</td>\n",
       "      <td>2014-06-01</td>\n",
       "      <td>649.91</td>\n",
       "      <td>NaN</td>\n",
       "      <td>2016-01-01</td>\n",
       "      <td>0.0</td>\n",
       "      <td>NaN</td>\n",
       "      <td>1.0</td>\n",
       "      <td>INDIVIDUAL</td>\n",
       "      <td>NaN</td>\n",
       "      <td>NaN</td>\n",
       "      <td>NaN</td>\n",
       "      <td>0.0</td>\n",
       "      <td>NaN</td>\n",
       "      <td>NaN</td>\n",
       "      <td>NaN</td>\n",
       "      <td>NaN</td>\n",
       "      <td>NaN</td>\n",
       "      <td>NaN</td>\n",
       "      <td>NaN</td>\n",
       "      <td>NaN</td>\n",
       "      <td>NaN</td>\n",
       "      <td>NaN</td>\n",
       "      <td>NaN</td>\n",
       "      <td>NaN</td>\n",
       "      <td>NaN</td>\n",
       "      <td>NaN</td>\n",
       "      <td>NaN</td>\n",
       "      <td>NaN</td>\n",
       "      <td>NaN</td>\n",
       "    </tr>\n",
       "    <tr>\n",
       "      <th>3</th>\n",
       "      <td>1076863</td>\n",
       "      <td>1277178</td>\n",
       "      <td>10000.0</td>\n",
       "      <td>10000.0</td>\n",
       "      <td>10000.0</td>\n",
       "      <td>36 months</td>\n",
       "      <td>13.49</td>\n",
       "      <td>339.31</td>\n",
       "      <td>C</td>\n",
       "      <td>C1</td>\n",
       "      <td>AIR RESOURCES BOARD</td>\n",
       "      <td>10+ years</td>\n",
       "      <td>RENT</td>\n",
       "      <td>49200.0</td>\n",
       "      <td>Source Verified</td>\n",
       "      <td>2011-12-01</td>\n",
       "      <td>Fully Paid</td>\n",
       "      <td>n</td>\n",
       "      <td>https://www.lendingclub.com/browse/loanDetail....</td>\n",
       "      <td>Borrower added on 12/21/11 &gt; to pay for prop...</td>\n",
       "      <td>other</td>\n",
       "      <td>personel</td>\n",
       "      <td>917xx</td>\n",
       "      <td>CA</td>\n",
       "      <td>20.00</td>\n",
       "      <td>0.0</td>\n",
       "      <td>1996-02-01</td>\n",
       "      <td>1.0</td>\n",
       "      <td>35.0</td>\n",
       "      <td>NaN</td>\n",
       "      <td>10.0</td>\n",
       "      <td>0.0</td>\n",
       "      <td>5598.0</td>\n",
       "      <td>21.0</td>\n",
       "      <td>37.0</td>\n",
       "      <td>f</td>\n",
       "      <td>0.0</td>\n",
       "      <td>0.0</td>\n",
       "      <td>12226.302212</td>\n",
       "      <td>12226.30</td>\n",
       "      <td>10000.00</td>\n",
       "      <td>2209.33</td>\n",
       "      <td>16.97</td>\n",
       "      <td>0.00</td>\n",
       "      <td>0.00</td>\n",
       "      <td>2015-01-01</td>\n",
       "      <td>357.48</td>\n",
       "      <td>NaN</td>\n",
       "      <td>2015-01-01</td>\n",
       "      <td>0.0</td>\n",
       "      <td>NaN</td>\n",
       "      <td>1.0</td>\n",
       "      <td>INDIVIDUAL</td>\n",
       "      <td>NaN</td>\n",
       "      <td>NaN</td>\n",
       "      <td>NaN</td>\n",
       "      <td>0.0</td>\n",
       "      <td>NaN</td>\n",
       "      <td>NaN</td>\n",
       "      <td>NaN</td>\n",
       "      <td>NaN</td>\n",
       "      <td>NaN</td>\n",
       "      <td>NaN</td>\n",
       "      <td>NaN</td>\n",
       "      <td>NaN</td>\n",
       "      <td>NaN</td>\n",
       "      <td>NaN</td>\n",
       "      <td>NaN</td>\n",
       "      <td>NaN</td>\n",
       "      <td>NaN</td>\n",
       "      <td>NaN</td>\n",
       "      <td>NaN</td>\n",
       "      <td>NaN</td>\n",
       "      <td>NaN</td>\n",
       "    </tr>\n",
       "    <tr>\n",
       "      <th>4</th>\n",
       "      <td>1075358</td>\n",
       "      <td>1311748</td>\n",
       "      <td>3000.0</td>\n",
       "      <td>3000.0</td>\n",
       "      <td>3000.0</td>\n",
       "      <td>60 months</td>\n",
       "      <td>12.69</td>\n",
       "      <td>67.79</td>\n",
       "      <td>B</td>\n",
       "      <td>B5</td>\n",
       "      <td>University Medical Group</td>\n",
       "      <td>1 year</td>\n",
       "      <td>RENT</td>\n",
       "      <td>80000.0</td>\n",
       "      <td>Source Verified</td>\n",
       "      <td>2011-12-01</td>\n",
       "      <td>Current</td>\n",
       "      <td>n</td>\n",
       "      <td>https://www.lendingclub.com/browse/loanDetail....</td>\n",
       "      <td>Borrower added on 12/21/11 &gt; I plan on combi...</td>\n",
       "      <td>other</td>\n",
       "      <td>Personal</td>\n",
       "      <td>972xx</td>\n",
       "      <td>OR</td>\n",
       "      <td>17.94</td>\n",
       "      <td>0.0</td>\n",
       "      <td>1996-01-01</td>\n",
       "      <td>0.0</td>\n",
       "      <td>38.0</td>\n",
       "      <td>NaN</td>\n",
       "      <td>15.0</td>\n",
       "      <td>0.0</td>\n",
       "      <td>27783.0</td>\n",
       "      <td>53.9</td>\n",
       "      <td>38.0</td>\n",
       "      <td>f</td>\n",
       "      <td>766.9</td>\n",
       "      <td>766.9</td>\n",
       "      <td>3242.170000</td>\n",
       "      <td>3242.17</td>\n",
       "      <td>2233.10</td>\n",
       "      <td>1009.07</td>\n",
       "      <td>0.00</td>\n",
       "      <td>0.00</td>\n",
       "      <td>0.00</td>\n",
       "      <td>2016-01-01</td>\n",
       "      <td>67.79</td>\n",
       "      <td>Feb-2016</td>\n",
       "      <td>2016-01-01</td>\n",
       "      <td>0.0</td>\n",
       "      <td>NaN</td>\n",
       "      <td>1.0</td>\n",
       "      <td>INDIVIDUAL</td>\n",
       "      <td>NaN</td>\n",
       "      <td>NaN</td>\n",
       "      <td>NaN</td>\n",
       "      <td>0.0</td>\n",
       "      <td>NaN</td>\n",
       "      <td>NaN</td>\n",
       "      <td>NaN</td>\n",
       "      <td>NaN</td>\n",
       "      <td>NaN</td>\n",
       "      <td>NaN</td>\n",
       "      <td>NaN</td>\n",
       "      <td>NaN</td>\n",
       "      <td>NaN</td>\n",
       "      <td>NaN</td>\n",
       "      <td>NaN</td>\n",
       "      <td>NaN</td>\n",
       "      <td>NaN</td>\n",
       "      <td>NaN</td>\n",
       "      <td>NaN</td>\n",
       "      <td>NaN</td>\n",
       "      <td>NaN</td>\n",
       "    </tr>\n",
       "  </tbody>\n",
       "</table>\n",
       "</div>"
      ],
      "text/plain": [
       "        id  member_id  loan_amnt  funded_amnt  funded_amnt_inv        term  \\\n",
       "0  1077501    1296599     5000.0       5000.0           4975.0   36 months   \n",
       "1  1077430    1314167     2500.0       2500.0           2500.0   60 months   \n",
       "2  1077175    1313524     2400.0       2400.0           2400.0   36 months   \n",
       "3  1076863    1277178    10000.0      10000.0          10000.0   36 months   \n",
       "4  1075358    1311748     3000.0       3000.0           3000.0   60 months   \n",
       "\n",
       "   int_rate  installment grade sub_grade                 emp_title emp_length  \\\n",
       "0     10.65       162.87     B        B2                       NaN  10+ years   \n",
       "1     15.27        59.83     C        C4                     Ryder   < 1 year   \n",
       "2     15.96        84.33     C        C5                       NaN  10+ years   \n",
       "3     13.49       339.31     C        C1       AIR RESOURCES BOARD  10+ years   \n",
       "4     12.69        67.79     B        B5  University Medical Group     1 year   \n",
       "\n",
       "  home_ownership  annual_inc verification_status    issue_d  loan_status  \\\n",
       "0           RENT     24000.0            Verified 2011-12-01   Fully Paid   \n",
       "1           RENT     30000.0     Source Verified 2011-12-01  Charged Off   \n",
       "2           RENT     12252.0        Not Verified 2011-12-01   Fully Paid   \n",
       "3           RENT     49200.0     Source Verified 2011-12-01   Fully Paid   \n",
       "4           RENT     80000.0     Source Verified 2011-12-01      Current   \n",
       "\n",
       "  pymnt_plan                                                url  \\\n",
       "0          n  https://www.lendingclub.com/browse/loanDetail....   \n",
       "1          n  https://www.lendingclub.com/browse/loanDetail....   \n",
       "2          n  https://www.lendingclub.com/browse/loanDetail....   \n",
       "3          n  https://www.lendingclub.com/browse/loanDetail....   \n",
       "4          n  https://www.lendingclub.com/browse/loanDetail....   \n",
       "\n",
       "                                                desc         purpose  \\\n",
       "0    Borrower added on 12/22/11 > I need to upgra...     credit_card   \n",
       "1    Borrower added on 12/22/11 > I plan to use t...             car   \n",
       "2                                                NaN  small_business   \n",
       "3    Borrower added on 12/21/11 > to pay for prop...           other   \n",
       "4    Borrower added on 12/21/11 > I plan on combi...           other   \n",
       "\n",
       "                  title zip_code addr_state    dti  delinq_2yrs  \\\n",
       "0              Computer    860xx         AZ  27.65          0.0   \n",
       "1                  bike    309xx         GA   1.00          0.0   \n",
       "2  real estate business    606xx         IL   8.72          0.0   \n",
       "3              personel    917xx         CA  20.00          0.0   \n",
       "4              Personal    972xx         OR  17.94          0.0   \n",
       "\n",
       "  earliest_cr_line  inq_last_6mths  mths_since_last_delinq  \\\n",
       "0       1985-01-01             1.0                     NaN   \n",
       "1       1999-04-01             5.0                     NaN   \n",
       "2       2001-11-01             2.0                     NaN   \n",
       "3       1996-02-01             1.0                    35.0   \n",
       "4       1996-01-01             0.0                    38.0   \n",
       "\n",
       "   mths_since_last_record  open_acc  pub_rec  revol_bal  revol_util  \\\n",
       "0                     NaN       3.0      0.0    13648.0        83.7   \n",
       "1                     NaN       3.0      0.0     1687.0         9.4   \n",
       "2                     NaN       2.0      0.0     2956.0        98.5   \n",
       "3                     NaN      10.0      0.0     5598.0        21.0   \n",
       "4                     NaN      15.0      0.0    27783.0        53.9   \n",
       "\n",
       "   total_acc initial_list_status  out_prncp  out_prncp_inv   total_pymnt  \\\n",
       "0        9.0                   f        0.0            0.0   5861.071414   \n",
       "1        4.0                   f        0.0            0.0   1008.710000   \n",
       "2       10.0                   f        0.0            0.0   3003.653644   \n",
       "3       37.0                   f        0.0            0.0  12226.302212   \n",
       "4       38.0                   f      766.9          766.9   3242.170000   \n",
       "\n",
       "   total_pymnt_inv  total_rec_prncp  total_rec_int  total_rec_late_fee  \\\n",
       "0          5831.78          5000.00         861.07                0.00   \n",
       "1          1008.71           456.46         435.17                0.00   \n",
       "2          3003.65          2400.00         603.65                0.00   \n",
       "3         12226.30         10000.00        2209.33               16.97   \n",
       "4          3242.17          2233.10        1009.07                0.00   \n",
       "\n",
       "   recoveries  collection_recovery_fee last_pymnt_d  last_pymnt_amnt  \\\n",
       "0        0.00                     0.00   2015-01-01           171.62   \n",
       "1      117.08                     1.11   2013-04-01           119.66   \n",
       "2        0.00                     0.00   2014-06-01           649.91   \n",
       "3        0.00                     0.00   2015-01-01           357.48   \n",
       "4        0.00                     0.00   2016-01-01            67.79   \n",
       "\n",
       "  next_pymnt_d last_credit_pull_d  collections_12_mths_ex_med  \\\n",
       "0          NaN         2016-01-01                         0.0   \n",
       "1          NaN         2013-09-01                         0.0   \n",
       "2          NaN         2016-01-01                         0.0   \n",
       "3          NaN         2015-01-01                         0.0   \n",
       "4     Feb-2016         2016-01-01                         0.0   \n",
       "\n",
       "   mths_since_last_major_derog  policy_code application_type  \\\n",
       "0                          NaN          1.0       INDIVIDUAL   \n",
       "1                          NaN          1.0       INDIVIDUAL   \n",
       "2                          NaN          1.0       INDIVIDUAL   \n",
       "3                          NaN          1.0       INDIVIDUAL   \n",
       "4                          NaN          1.0       INDIVIDUAL   \n",
       "\n",
       "   annual_inc_joint  dti_joint verification_status_joint  acc_now_delinq  \\\n",
       "0               NaN        NaN                       NaN             0.0   \n",
       "1               NaN        NaN                       NaN             0.0   \n",
       "2               NaN        NaN                       NaN             0.0   \n",
       "3               NaN        NaN                       NaN             0.0   \n",
       "4               NaN        NaN                       NaN             0.0   \n",
       "\n",
       "   tot_coll_amt  tot_cur_bal  open_acc_6m  open_il_6m  open_il_12m  \\\n",
       "0           NaN          NaN          NaN         NaN          NaN   \n",
       "1           NaN          NaN          NaN         NaN          NaN   \n",
       "2           NaN          NaN          NaN         NaN          NaN   \n",
       "3           NaN          NaN          NaN         NaN          NaN   \n",
       "4           NaN          NaN          NaN         NaN          NaN   \n",
       "\n",
       "   open_il_24m  mths_since_rcnt_il  total_bal_il  il_util  open_rv_12m  \\\n",
       "0          NaN                 NaN           NaN      NaN          NaN   \n",
       "1          NaN                 NaN           NaN      NaN          NaN   \n",
       "2          NaN                 NaN           NaN      NaN          NaN   \n",
       "3          NaN                 NaN           NaN      NaN          NaN   \n",
       "4          NaN                 NaN           NaN      NaN          NaN   \n",
       "\n",
       "   open_rv_24m  max_bal_bc  all_util  total_rev_hi_lim  inq_fi  total_cu_tl  \\\n",
       "0          NaN         NaN       NaN               NaN     NaN          NaN   \n",
       "1          NaN         NaN       NaN               NaN     NaN          NaN   \n",
       "2          NaN         NaN       NaN               NaN     NaN          NaN   \n",
       "3          NaN         NaN       NaN               NaN     NaN          NaN   \n",
       "4          NaN         NaN       NaN               NaN     NaN          NaN   \n",
       "\n",
       "   inq_last_12m  \n",
       "0           NaN  \n",
       "1           NaN  \n",
       "2           NaN  \n",
       "3           NaN  \n",
       "4           NaN  "
      ]
     },
     "execution_count": 1,
     "metadata": {},
     "output_type": "execute_result"
    }
   ],
   "source": [
    "import pandas as pd\n",
    "import seaborn as sns\n",
    "import numpy as np\n",
    "import matplotlib.pyplot as plt\n",
    "\n",
    "# Display configuration\n",
    "pd.options.display.max_columns = 100\n",
    "%matplotlib inline\n",
    "\n",
    "#Load and format data\n",
    "df_data = pd.read_csv(\n",
    "            '../inputs/loan.csv', low_memory = False,\n",
    "            dtype = {'term':np.str},\n",
    "            parse_dates = \n",
    "                [\n",
    "                    'last_pymnt_d', 'earliest_cr_line', 'issue_d', 'term', 'last_credit_pull_d'\n",
    "                ]\n",
    "            )\n",
    "\n",
    "df_data.head()"
   ]
  },
  {
   "cell_type": "code",
   "execution_count": 2,
   "metadata": {
    "collapsed": true
   },
   "outputs": [],
   "source": [
    "df_data_save = df_data.copy(deep=True)"
   ]
  },
  {
   "cell_type": "code",
   "execution_count": 3,
   "metadata": {
    "collapsed": true
   },
   "outputs": [],
   "source": [
    "df_data = df_data_save.copy(deep=True)"
   ]
  },
  {
   "cell_type": "code",
   "execution_count": 4,
   "metadata": {},
   "outputs": [
    {
     "data": {
      "text/plain": [
       "(887379, 74)"
      ]
     },
     "execution_count": 4,
     "metadata": {},
     "output_type": "execute_result"
    }
   ],
   "source": [
    "df_data.shape"
   ]
  },
  {
   "cell_type": "markdown",
   "metadata": {},
   "source": [
    "De nombreuses colonnes présentent des données manquantes (NaN) :<br/>"
   ]
  },
  {
   "cell_type": "code",
   "execution_count": 5,
   "metadata": {},
   "outputs": [
    {
     "data": {
      "text/plain": [
       "all_util            866007\n",
       "total_rev_hi_lim     70276\n",
       "inq_fi              866007\n",
       "total_cu_tl         866007\n",
       "inq_last_12m        866007\n",
       "dtype: int64"
      ]
     },
     "execution_count": 5,
     "metadata": {},
     "output_type": "execute_result"
    }
   ],
   "source": [
    "pd.options.display.max_columns = 100\n",
    "pd.isnull(df_data).sum().tail()"
   ]
  },
  {
   "cell_type": "code",
   "execution_count": 6,
   "metadata": {},
   "outputs": [
    {
     "data": {
      "text/plain": [
       "['annual_inc_joint',\n",
       " 'dti_joint',\n",
       " 'verification_status_joint',\n",
       " 'open_acc_6m',\n",
       " 'open_il_6m',\n",
       " 'open_il_12m',\n",
       " 'open_il_24m',\n",
       " 'mths_since_rcnt_il',\n",
       " 'total_bal_il',\n",
       " 'il_util',\n",
       " 'open_rv_12m',\n",
       " 'open_rv_24m',\n",
       " 'max_bal_bc',\n",
       " 'all_util',\n",
       " 'inq_fi',\n",
       " 'total_cu_tl',\n",
       " 'inq_last_12m']"
      ]
     },
     "execution_count": 6,
     "metadata": {},
     "output_type": "execute_result"
    }
   ],
   "source": [
    "col_todrop = df_data.columns[pd.isnull(df_data).sum() > 0.9 * df_data.shape[0]].tolist()\n",
    "col_todrop"
   ]
  },
  {
   "cell_type": "code",
   "execution_count": 7,
   "metadata": {
    "collapsed": true
   },
   "outputs": [],
   "source": [
    "df_data.drop(col_todrop,\n",
    "            axis=1, inplace=True);"
   ]
  },
  {
   "cell_type": "markdown",
   "metadata": {},
   "source": [
    "Colonnes à formater : term, grade / subgrade, emp_length"
   ]
  },
  {
   "cell_type": "code",
   "execution_count": 8,
   "metadata": {
    "collapsed": true
   },
   "outputs": [],
   "source": [
    "df_data['term'] = df_data['term'].apply(lambda x: x[0:3])\n",
    "df_data['term'] = pd.to_numeric(df_data['term'])"
   ]
  },
  {
   "cell_type": "code",
   "execution_count": 9,
   "metadata": {},
   "outputs": [
    {
     "data": {
      "text/plain": [
       "array(['10+ years', '< 1 year', '1 year', '3 years', '8 years', '9 years',\n",
       "       '4 years', '5 years', '6 years', '2 years', '7 years', 'n/a'], dtype=object)"
      ]
     },
     "execution_count": 9,
     "metadata": {},
     "output_type": "execute_result"
    }
   ],
   "source": [
    "df_data['emp_length'].unique()"
   ]
  },
  {
   "cell_type": "code",
   "execution_count": 10,
   "metadata": {
    "collapsed": true
   },
   "outputs": [],
   "source": [
    "emp2float = {\n",
    "    '10+ years':11, '< 1 year':0, '1 year':1, '3 years':3,\n",
    "    '8 years':8, '9 years':9, '4 years':4, '5 years':5, \n",
    "    '6 years':6, '2 years':2, '7 years':7, 'n/a':-1\n",
    "}\n",
    "\n",
    "df_data['emp_length']=df_data['emp_length'].fillna('n/a')\n",
    "df_data['emp_length'] = df_data['emp_length'].apply(lambda x: emp2float[x])\n",
    "#df_data['emp_length'] = df_data['emp_length'].apply(lambda x: emp2float[x])"
   ]
  },
  {
   "cell_type": "markdown",
   "metadata": {},
   "source": [
    "Colonnes non exploitables sans un traitement complexe ou supprimées par simplification :"
   ]
  },
  {
   "cell_type": "code",
   "execution_count": 11,
   "metadata": {
    "collapsed": true
   },
   "outputs": [],
   "source": [
    "df_data.drop(\n",
    "    [\n",
    "        'url', 'desc', 'acc_now_delinq', 'tot_coll_amt', 'tot_cur_bal',\n",
    "        'total_rev_hi_lim', 'verification_status', 'revol_bal', 'revol_util',\n",
    "        'initial_list_status','collections_12_mths_ex_med',\n",
    "        'mths_since_last_major_derog', 'policy_code', 'application_type'\n",
    "    ],\n",
    "    axis=1, inplace=True\n",
    "    );"
   ]
  },
  {
   "cell_type": "code",
   "execution_count": 12,
   "metadata": {},
   "outputs": [
    {
     "data": {
      "text/plain": [
       "Index(['id', 'member_id', 'loan_amnt', 'funded_amnt', 'funded_amnt_inv',\n",
       "       'term', 'int_rate', 'installment', 'grade', 'sub_grade', 'emp_title',\n",
       "       'emp_length', 'home_ownership', 'annual_inc', 'issue_d', 'loan_status',\n",
       "       'pymnt_plan', 'purpose', 'title', 'zip_code', 'addr_state', 'dti',\n",
       "       'delinq_2yrs', 'earliest_cr_line', 'inq_last_6mths',\n",
       "       'mths_since_last_delinq', 'mths_since_last_record', 'open_acc',\n",
       "       'pub_rec', 'total_acc', 'out_prncp', 'out_prncp_inv', 'total_pymnt',\n",
       "       'total_pymnt_inv', 'total_rec_prncp', 'total_rec_int',\n",
       "       'total_rec_late_fee', 'recoveries', 'collection_recovery_fee',\n",
       "       'last_pymnt_d', 'last_pymnt_amnt', 'next_pymnt_d',\n",
       "       'last_credit_pull_d'],\n",
       "      dtype='object')"
      ]
     },
     "execution_count": 12,
     "metadata": {},
     "output_type": "execute_result"
    }
   ],
   "source": [
    "df_data.columns"
   ]
  },
  {
   "cell_type": "markdown",
   "metadata": {},
   "source": [
    "Suppression des entrées où il manque une variable importante :"
   ]
  },
  {
   "cell_type": "code",
   "execution_count": 13,
   "metadata": {
    "collapsed": true
   },
   "outputs": [],
   "source": [
    "df_data = df_data.where(~df_data['loan_amnt'].isnull())\n",
    "df_data = df_data.where(~df_data['term'].isnull())\n",
    "df_data = df_data.where(~df_data['int_rate'].isnull())\n",
    "df_data = df_data.where(~df_data['loan_status'].isnull())\n",
    "df_data = df_data.where(~df_data['total_pymnt'].isnull())\n",
    "df_data = df_data.where(~df_data['issue_d'].isnull())\n",
    "df_data = df_data.where(~df_data['last_pymnt_d'].isnull())"
   ]
  },
  {
   "cell_type": "markdown",
   "metadata": {},
   "source": [
    "<h3>Cohérence des données / Data Cleaning</h3>"
   ]
  },
  {
   "cell_type": "markdown",
   "metadata": {},
   "source": [
    "<h4>Variables continues</h4>"
   ]
  },
  {
   "cell_type": "code",
   "execution_count": 14,
   "metadata": {},
   "outputs": [
    {
     "data": {
      "text/html": [
       "<div>\n",
       "<style>\n",
       "    .dataframe thead tr:only-child th {\n",
       "        text-align: right;\n",
       "    }\n",
       "\n",
       "    .dataframe thead th {\n",
       "        text-align: left;\n",
       "    }\n",
       "\n",
       "    .dataframe tbody tr th {\n",
       "        vertical-align: top;\n",
       "    }\n",
       "</style>\n",
       "<table border=\"1\" class=\"dataframe\">\n",
       "  <thead>\n",
       "    <tr style=\"text-align: right;\">\n",
       "      <th></th>\n",
       "      <th>id</th>\n",
       "      <th>member_id</th>\n",
       "      <th>loan_amnt</th>\n",
       "      <th>funded_amnt</th>\n",
       "      <th>funded_amnt_inv</th>\n",
       "      <th>term</th>\n",
       "      <th>int_rate</th>\n",
       "      <th>installment</th>\n",
       "      <th>emp_length</th>\n",
       "      <th>annual_inc</th>\n",
       "      <th>dti</th>\n",
       "      <th>delinq_2yrs</th>\n",
       "      <th>inq_last_6mths</th>\n",
       "      <th>mths_since_last_delinq</th>\n",
       "      <th>mths_since_last_record</th>\n",
       "      <th>open_acc</th>\n",
       "      <th>pub_rec</th>\n",
       "      <th>total_acc</th>\n",
       "      <th>out_prncp</th>\n",
       "      <th>out_prncp_inv</th>\n",
       "      <th>total_pymnt</th>\n",
       "      <th>total_pymnt_inv</th>\n",
       "      <th>total_rec_prncp</th>\n",
       "      <th>total_rec_int</th>\n",
       "      <th>total_rec_late_fee</th>\n",
       "      <th>recoveries</th>\n",
       "      <th>collection_recovery_fee</th>\n",
       "      <th>last_pymnt_amnt</th>\n",
       "    </tr>\n",
       "  </thead>\n",
       "  <tbody>\n",
       "    <tr>\n",
       "      <th>count</th>\n",
       "      <td>8.697200e+05</td>\n",
       "      <td>8.697200e+05</td>\n",
       "      <td>869720.000000</td>\n",
       "      <td>869720.000000</td>\n",
       "      <td>869720.000000</td>\n",
       "      <td>869720.000000</td>\n",
       "      <td>869720.000000</td>\n",
       "      <td>869720.000000</td>\n",
       "      <td>869720.000000</td>\n",
       "      <td>8.697160e+05</td>\n",
       "      <td>869720.000000</td>\n",
       "      <td>869691.000000</td>\n",
       "      <td>869691.000000</td>\n",
       "      <td>423878.000000</td>\n",
       "      <td>133805.000000</td>\n",
       "      <td>869691.000000</td>\n",
       "      <td>869691.000000</td>\n",
       "      <td>869691.000000</td>\n",
       "      <td>869720.000000</td>\n",
       "      <td>869720.000000</td>\n",
       "      <td>869720.000000</td>\n",
       "      <td>869720.000000</td>\n",
       "      <td>869720.000000</td>\n",
       "      <td>869720.000000</td>\n",
       "      <td>869720.000000</td>\n",
       "      <td>869720.000000</td>\n",
       "      <td>869720.000000</td>\n",
       "      <td>869720.000000</td>\n",
       "    </tr>\n",
       "    <tr>\n",
       "      <th>mean</th>\n",
       "      <td>3.178047e+07</td>\n",
       "      <td>3.427270e+07</td>\n",
       "      <td>14748.057478</td>\n",
       "      <td>14734.398686</td>\n",
       "      <td>14694.558699</td>\n",
       "      <td>43.198869</td>\n",
       "      <td>13.261159</td>\n",
       "      <td>436.639840</td>\n",
       "      <td>5.988118</td>\n",
       "      <td>7.496605e+04</td>\n",
       "      <td>18.129744</td>\n",
       "      <td>0.313756</td>\n",
       "      <td>0.695654</td>\n",
       "      <td>34.069966</td>\n",
       "      <td>70.229857</td>\n",
       "      <td>11.538111</td>\n",
       "      <td>0.194279</td>\n",
       "      <td>25.263986</td>\n",
       "      <td>8274.455087</td>\n",
       "      <td>8271.097407</td>\n",
       "      <td>7711.614868</td>\n",
       "      <td>7673.195662</td>\n",
       "      <td>5874.612253</td>\n",
       "      <td>1790.434288</td>\n",
       "      <td>0.404746</td>\n",
       "      <td>46.163583</td>\n",
       "      <td>4.914001</td>\n",
       "      <td>2208.086908</td>\n",
       "    </tr>\n",
       "    <tr>\n",
       "      <th>std</th>\n",
       "      <td>2.250629e+07</td>\n",
       "      <td>2.376448e+07</td>\n",
       "      <td>8425.968707</td>\n",
       "      <td>8420.279574</td>\n",
       "      <td>8432.879782</td>\n",
       "      <td>10.997694</td>\n",
       "      <td>4.382184</td>\n",
       "      <td>243.965253</td>\n",
       "      <td>4.262411</td>\n",
       "      <td>6.444023e+04</td>\n",
       "      <td>17.278153</td>\n",
       "      <td>0.861210</td>\n",
       "      <td>0.999943</td>\n",
       "      <td>21.888332</td>\n",
       "      <td>28.205463</td>\n",
       "      <td>5.305942</td>\n",
       "      <td>0.580297</td>\n",
       "      <td>11.831683</td>\n",
       "      <td>8431.194031</td>\n",
       "      <td>8427.793027</td>\n",
       "      <td>7876.375500</td>\n",
       "      <td>7851.489682</td>\n",
       "      <td>6640.856656</td>\n",
       "      <td>2101.397203</td>\n",
       "      <td>4.128722</td>\n",
       "      <td>408.853196</td>\n",
       "      <td>63.270347</td>\n",
       "      <td>4833.188772</td>\n",
       "    </tr>\n",
       "    <tr>\n",
       "      <th>min</th>\n",
       "      <td>5.473400e+04</td>\n",
       "      <td>7.047300e+04</td>\n",
       "      <td>500.000000</td>\n",
       "      <td>500.000000</td>\n",
       "      <td>0.000000</td>\n",
       "      <td>36.000000</td>\n",
       "      <td>5.320000</td>\n",
       "      <td>15.670000</td>\n",
       "      <td>-1.000000</td>\n",
       "      <td>0.000000e+00</td>\n",
       "      <td>0.000000</td>\n",
       "      <td>0.000000</td>\n",
       "      <td>0.000000</td>\n",
       "      <td>0.000000</td>\n",
       "      <td>0.000000</td>\n",
       "      <td>0.000000</td>\n",
       "      <td>0.000000</td>\n",
       "      <td>1.000000</td>\n",
       "      <td>0.000000</td>\n",
       "      <td>0.000000</td>\n",
       "      <td>0.000000</td>\n",
       "      <td>0.000000</td>\n",
       "      <td>0.000000</td>\n",
       "      <td>0.000000</td>\n",
       "      <td>0.000000</td>\n",
       "      <td>0.000000</td>\n",
       "      <td>0.000000</td>\n",
       "      <td>0.000000</td>\n",
       "    </tr>\n",
       "    <tr>\n",
       "      <th>25%</th>\n",
       "      <td>9.001110e+06</td>\n",
       "      <td>1.075277e+07</td>\n",
       "      <td>8000.000000</td>\n",
       "      <td>8000.000000</td>\n",
       "      <td>8000.000000</td>\n",
       "      <td>36.000000</td>\n",
       "      <td>9.990000</td>\n",
       "      <td>260.850000</td>\n",
       "      <td>2.000000</td>\n",
       "      <td>4.500000e+04</td>\n",
       "      <td>11.890000</td>\n",
       "      <td>0.000000</td>\n",
       "      <td>0.000000</td>\n",
       "      <td>15.000000</td>\n",
       "      <td>51.000000</td>\n",
       "      <td>8.000000</td>\n",
       "      <td>0.000000</td>\n",
       "      <td>17.000000</td>\n",
       "      <td>0.000000</td>\n",
       "      <td>0.000000</td>\n",
       "      <td>2047.630000</td>\n",
       "      <td>2030.797500</td>\n",
       "      <td>1293.190000</td>\n",
       "      <td>472.540000</td>\n",
       "      <td>0.000000</td>\n",
       "      <td>0.000000</td>\n",
       "      <td>0.000000</td>\n",
       "      <td>290.370000</td>\n",
       "    </tr>\n",
       "    <tr>\n",
       "      <th>50%</th>\n",
       "      <td>3.321119e+07</td>\n",
       "      <td>3.584487e+07</td>\n",
       "      <td>13000.000000</td>\n",
       "      <td>13000.000000</td>\n",
       "      <td>13000.000000</td>\n",
       "      <td>36.000000</td>\n",
       "      <td>12.990000</td>\n",
       "      <td>382.550000</td>\n",
       "      <td>6.000000</td>\n",
       "      <td>6.473400e+04</td>\n",
       "      <td>17.630000</td>\n",
       "      <td>0.000000</td>\n",
       "      <td>0.000000</td>\n",
       "      <td>31.000000</td>\n",
       "      <td>70.000000</td>\n",
       "      <td>11.000000</td>\n",
       "      <td>0.000000</td>\n",
       "      <td>24.000000</td>\n",
       "      <td>6295.625000</td>\n",
       "      <td>6292.540000</td>\n",
       "      <td>5054.610000</td>\n",
       "      <td>5023.540000</td>\n",
       "      <td>3338.080000</td>\n",
       "      <td>1106.145000</td>\n",
       "      <td>0.000000</td>\n",
       "      <td>0.000000</td>\n",
       "      <td>0.000000</td>\n",
       "      <td>471.290000</td>\n",
       "    </tr>\n",
       "    <tr>\n",
       "      <th>75%</th>\n",
       "      <td>5.355463e+07</td>\n",
       "      <td>5.707558e+07</td>\n",
       "      <td>20000.000000</td>\n",
       "      <td>20000.000000</td>\n",
       "      <td>20000.000000</td>\n",
       "      <td>60.000000</td>\n",
       "      <td>16.200000</td>\n",
       "      <td>572.190000</td>\n",
       "      <td>11.000000</td>\n",
       "      <td>9.000000e+04</td>\n",
       "      <td>23.910000</td>\n",
       "      <td>0.000000</td>\n",
       "      <td>1.000000</td>\n",
       "      <td>50.000000</td>\n",
       "      <td>92.000000</td>\n",
       "      <td>14.000000</td>\n",
       "      <td>0.000000</td>\n",
       "      <td>32.000000</td>\n",
       "      <td>13495.840000</td>\n",
       "      <td>13489.560000</td>\n",
       "      <td>10788.700455</td>\n",
       "      <td>10725.350000</td>\n",
       "      <td>8000.000000</td>\n",
       "      <td>2274.732500</td>\n",
       "      <td>0.000000</td>\n",
       "      <td>0.000000</td>\n",
       "      <td>0.000000</td>\n",
       "      <td>846.765000</td>\n",
       "    </tr>\n",
       "    <tr>\n",
       "      <th>max</th>\n",
       "      <td>6.861687e+07</td>\n",
       "      <td>7.351969e+07</td>\n",
       "      <td>35000.000000</td>\n",
       "      <td>35000.000000</td>\n",
       "      <td>35000.000000</td>\n",
       "      <td>60.000000</td>\n",
       "      <td>28.990000</td>\n",
       "      <td>1445.460000</td>\n",
       "      <td>11.000000</td>\n",
       "      <td>9.500000e+06</td>\n",
       "      <td>9999.000000</td>\n",
       "      <td>39.000000</td>\n",
       "      <td>33.000000</td>\n",
       "      <td>188.000000</td>\n",
       "      <td>129.000000</td>\n",
       "      <td>90.000000</td>\n",
       "      <td>86.000000</td>\n",
       "      <td>169.000000</td>\n",
       "      <td>49372.860000</td>\n",
       "      <td>49372.860000</td>\n",
       "      <td>57777.579870</td>\n",
       "      <td>57777.580000</td>\n",
       "      <td>35000.030000</td>\n",
       "      <td>24205.620000</td>\n",
       "      <td>358.680000</td>\n",
       "      <td>33520.270000</td>\n",
       "      <td>7002.190000</td>\n",
       "      <td>36475.590000</td>\n",
       "    </tr>\n",
       "  </tbody>\n",
       "</table>\n",
       "</div>"
      ],
      "text/plain": [
       "                 id     member_id      loan_amnt    funded_amnt  \\\n",
       "count  8.697200e+05  8.697200e+05  869720.000000  869720.000000   \n",
       "mean   3.178047e+07  3.427270e+07   14748.057478   14734.398686   \n",
       "std    2.250629e+07  2.376448e+07    8425.968707    8420.279574   \n",
       "min    5.473400e+04  7.047300e+04     500.000000     500.000000   \n",
       "25%    9.001110e+06  1.075277e+07    8000.000000    8000.000000   \n",
       "50%    3.321119e+07  3.584487e+07   13000.000000   13000.000000   \n",
       "75%    5.355463e+07  5.707558e+07   20000.000000   20000.000000   \n",
       "max    6.861687e+07  7.351969e+07   35000.000000   35000.000000   \n",
       "\n",
       "       funded_amnt_inv           term       int_rate    installment  \\\n",
       "count    869720.000000  869720.000000  869720.000000  869720.000000   \n",
       "mean      14694.558699      43.198869      13.261159     436.639840   \n",
       "std        8432.879782      10.997694       4.382184     243.965253   \n",
       "min           0.000000      36.000000       5.320000      15.670000   \n",
       "25%        8000.000000      36.000000       9.990000     260.850000   \n",
       "50%       13000.000000      36.000000      12.990000     382.550000   \n",
       "75%       20000.000000      60.000000      16.200000     572.190000   \n",
       "max       35000.000000      60.000000      28.990000    1445.460000   \n",
       "\n",
       "          emp_length    annual_inc            dti    delinq_2yrs  \\\n",
       "count  869720.000000  8.697160e+05  869720.000000  869691.000000   \n",
       "mean        5.988118  7.496605e+04      18.129744       0.313756   \n",
       "std         4.262411  6.444023e+04      17.278153       0.861210   \n",
       "min        -1.000000  0.000000e+00       0.000000       0.000000   \n",
       "25%         2.000000  4.500000e+04      11.890000       0.000000   \n",
       "50%         6.000000  6.473400e+04      17.630000       0.000000   \n",
       "75%        11.000000  9.000000e+04      23.910000       0.000000   \n",
       "max        11.000000  9.500000e+06    9999.000000      39.000000   \n",
       "\n",
       "       inq_last_6mths  mths_since_last_delinq  mths_since_last_record  \\\n",
       "count   869691.000000           423878.000000           133805.000000   \n",
       "mean         0.695654               34.069966               70.229857   \n",
       "std          0.999943               21.888332               28.205463   \n",
       "min          0.000000                0.000000                0.000000   \n",
       "25%          0.000000               15.000000               51.000000   \n",
       "50%          0.000000               31.000000               70.000000   \n",
       "75%          1.000000               50.000000               92.000000   \n",
       "max         33.000000              188.000000              129.000000   \n",
       "\n",
       "            open_acc        pub_rec      total_acc      out_prncp  \\\n",
       "count  869691.000000  869691.000000  869691.000000  869720.000000   \n",
       "mean       11.538111       0.194279      25.263986    8274.455087   \n",
       "std         5.305942       0.580297      11.831683    8431.194031   \n",
       "min         0.000000       0.000000       1.000000       0.000000   \n",
       "25%         8.000000       0.000000      17.000000       0.000000   \n",
       "50%        11.000000       0.000000      24.000000    6295.625000   \n",
       "75%        14.000000       0.000000      32.000000   13495.840000   \n",
       "max        90.000000      86.000000     169.000000   49372.860000   \n",
       "\n",
       "       out_prncp_inv    total_pymnt  total_pymnt_inv  total_rec_prncp  \\\n",
       "count  869720.000000  869720.000000    869720.000000    869720.000000   \n",
       "mean     8271.097407    7711.614868      7673.195662      5874.612253   \n",
       "std      8427.793027    7876.375500      7851.489682      6640.856656   \n",
       "min         0.000000       0.000000         0.000000         0.000000   \n",
       "25%         0.000000    2047.630000      2030.797500      1293.190000   \n",
       "50%      6292.540000    5054.610000      5023.540000      3338.080000   \n",
       "75%     13489.560000   10788.700455     10725.350000      8000.000000   \n",
       "max     49372.860000   57777.579870     57777.580000     35000.030000   \n",
       "\n",
       "       total_rec_int  total_rec_late_fee     recoveries  \\\n",
       "count  869720.000000       869720.000000  869720.000000   \n",
       "mean     1790.434288            0.404746      46.163583   \n",
       "std      2101.397203            4.128722     408.853196   \n",
       "min         0.000000            0.000000       0.000000   \n",
       "25%       472.540000            0.000000       0.000000   \n",
       "50%      1106.145000            0.000000       0.000000   \n",
       "75%      2274.732500            0.000000       0.000000   \n",
       "max     24205.620000          358.680000   33520.270000   \n",
       "\n",
       "       collection_recovery_fee  last_pymnt_amnt  \n",
       "count            869720.000000    869720.000000  \n",
       "mean                  4.914001      2208.086908  \n",
       "std                  63.270347      4833.188772  \n",
       "min                   0.000000         0.000000  \n",
       "25%                   0.000000       290.370000  \n",
       "50%                   0.000000       471.290000  \n",
       "75%                   0.000000       846.765000  \n",
       "max                7002.190000     36475.590000  "
      ]
     },
     "execution_count": 14,
     "metadata": {},
     "output_type": "execute_result"
    }
   ],
   "source": [
    "df_data.describe()"
   ]
  },
  {
   "cell_type": "markdown",
   "metadata": {},
   "source": [
    "Structure des prêts :<br/>\n",
    "869720 &#36; ont été investis entre 2007 et 2015<br/>\n",
    "avec un montant de crédit de 14.734&#36; en moyenne<br/>\n",
    "50 des prêts sont accordés pour des montants entre 8000 et 20.000&#36;<br/>\n",
    "Le montant maximalaccordé est de 35.000&#36;"
   ]
  },
  {
   "cell_type": "markdown",
   "metadata": {},
   "source": [
    "Le revenu maximal (annual_inc) est de 9.500.000 ce qui pourrait indiquer la présence de données abberantes sur cette variable.<br/> Pour vérifier simplement, on regarde la donnée conjointe du salaire et de la durée de l''emploi :"
   ]
  },
  {
   "cell_type": "code",
   "execution_count": 60,
   "metadata": {},
   "outputs": [
    {
     "data": {
      "text/plain": [
       "<seaborn.axisgrid.JointGrid at 0x20ea2b8a2e8>"
      ]
     },
     "execution_count": 60,
     "metadata": {},
     "output_type": "execute_result"
    },
    {
     "data": {
      "image/png": "[encoded data removed]",
      "text/plain": [
       "<matplotlib.figure.Figure at 0x20ea2b8ae10>"
      ]
     },
     "metadata": {},
     "output_type": "display_data"
    }
   ],
   "source": [
    "sns.jointplot(x=df_data['annual_inc'], y=df_data['emp_length'])"
   ]
  },
  {
   "cell_type": "markdown",
   "metadata": {},
   "source": [
    "On retient que le revenu indiqué présente certaines valeurs abberantes.<br/>\n",
    "Par exemple, pour une durée d''emploi inférieure à 1 an, on concoit mal les valeurs de salaire annuelle de 200.000$ qui apparaissent sur le graphique."
   ]
  },
  {
   "cell_type": "markdown",
   "metadata": {},
   "source": [
    "On vérifie la cohérence des différents montants enregistrés pour les paiements :"
   ]
  },
  {
   "cell_type": "code",
   "execution_count": 16,
   "metadata": {},
   "outputs": [
    {
     "data": {
      "text/plain": [
       "0"
      ]
     },
     "execution_count": 16,
     "metadata": {},
     "output_type": "execute_result"
    }
   ],
   "source": [
    "pymnt_diff = df_data['total_pymnt'] - df_data['total_rec_prncp'] - df_data['total_rec_int'] \\\n",
    "    - df_data['total_rec_late_fee'] - df_data['recoveries'] - df_data['collection_recovery_fee']\n",
    "(pymnt_diff>1).sum()"
   ]
  },
  {
   "cell_type": "markdown",
   "metadata": {},
   "source": [
    "On vérifie la cohérence entre la notation du crédit (grade) et le taux d''intérêt :"
   ]
  },
  {
   "cell_type": "code",
   "execution_count": 18,
   "metadata": {},
   "outputs": [
    {
     "data": {
      "image/png": "[encoded data removed]",
      "text/plain": [
       "<matplotlib.figure.Figure at 0x20ead014860>"
      ]
     },
     "metadata": {},
     "output_type": "display_data"
    }
   ],
   "source": [
    "#dfplt = df_data.boxplot(column='int_rate', by='grade')\n",
    "#dfplt.set_xticklabels(labels=dfplt.get_xticklabels(), rotation=45);\n",
    "\n",
    "dfplt = df_data.boxplot(column='int_rate', by='sub_grade')\n",
    "dfplt.set_xticklabels(labels=dfplt.get_xticklabels(), rotation=45);"
   ]
  },
  {
   "cell_type": "markdown",
   "metadata": {},
   "source": [
    "<h4>Dates</h4>"
   ]
  },
  {
   "cell_type": "markdown",
   "metadata": {},
   "source": [
    "Conversion des dates en données visualisables :"
   ]
  },
  {
   "cell_type": "code",
   "execution_count": 19,
   "metadata": {
    "collapsed": true
   },
   "outputs": [],
   "source": [
    "df_data['last_pymnt_y'] = df_data['last_pymnt_d'].apply(lambda x: x.year)\n",
    "df_data['issue_y'] = df_data['issue_d'].apply(lambda x: x.year)\n",
    "#df_data['last_credit_pull_y']=df_data['last_credit_pull_d'].apply(lambda x: x.year)"
   ]
  },
  {
   "cell_type": "code",
   "execution_count": 20,
   "metadata": {},
   "outputs": [
    {
     "data": {
      "text/plain": [
       "count                  869720\n",
       "unique                    103\n",
       "top       2015-10-01 00:00:00\n",
       "freq                    48593\n",
       "first     2007-06-01 00:00:00\n",
       "last      2015-12-01 00:00:00\n",
       "Name: issue_d, dtype: object"
      ]
     },
     "execution_count": 20,
     "metadata": {},
     "output_type": "execute_result"
    }
   ],
   "source": [
    "df_data['issue_d'].describe()"
   ]
  },
  {
   "cell_type": "code",
   "execution_count": 21,
   "metadata": {},
   "outputs": [
    {
     "data": {
      "text/plain": [
       "count                  869720\n",
       "unique                     98\n",
       "top       2016-01-01 00:00:00\n",
       "freq                   470150\n",
       "first     2007-12-01 00:00:00\n",
       "last      2016-01-01 00:00:00\n",
       "Name: last_pymnt_d, dtype: object"
      ]
     },
     "execution_count": 21,
     "metadata": {},
     "output_type": "execute_result"
    }
   ],
   "source": [
    "df_data['last_pymnt_d'].describe()"
   ]
  },
  {
   "cell_type": "markdown",
   "metadata": {},
   "source": [
    "Les données contiennent donc des crédits émis depuis le 1er juin 2007 jusqu''au 1er décembre 2015.<br/> Le dernier paiement a lieu le 1er janvier 2016. <br/>\n",
    "Donc pour de nombreux crédits (Current), on ne connait pas l'issue (défaut vs payé) du crédit.<br/>\n",
    "Voir graph suivant :"
   ]
  },
  {
   "cell_type": "code",
   "execution_count": 64,
   "metadata": {},
   "outputs": [
    {
     "data": {
      "text/plain": [
       "array(['Fully Paid', 'Charged Off', 'Current', nan, 'Default',\n",
       "       'Late (31-120 days)', 'In Grace Period', 'Late (16-30 days)',\n",
       "       'Does not meet the credit policy. Status:Fully Paid',\n",
       "       'Does not meet the credit policy. Status:Charged Off', 'Issued'], dtype=object)"
      ]
     },
     "execution_count": 64,
     "metadata": {},
     "output_type": "execute_result"
    }
   ],
   "source": [
    "df_data['loan_status'].unique()"
   ]
  },
  {
   "cell_type": "code",
   "execution_count": 61,
   "metadata": {},
   "outputs": [
    {
     "data": {
      "image/png": "[encoded data removed]",
      "text/plain": [
       "<matplotlib.figure.Figure at 0x20e8774c978>"
      ]
     },
     "metadata": {},
     "output_type": "display_data"
    }
   ],
   "source": [
    "df_data3stat = df_data[df_data['loan_status'].isin(['Current','Fully Paid', 'Charged Off'])]\n",
    "plt1 = sns.countplot(x=\"issue_y\", data=df_data3stat, hue='loan_status', orient='h')\n",
    "plt1.set_xticklabels(labels=plt1.get_xticklabels(), rotation=45);"
   ]
  },
  {
   "cell_type": "markdown",
   "metadata": {},
   "source": [
    "On travaillera sur l'ensemble des données pour obtenir des statistiques générales et également pour comprendre la dynamique des emprunts courants (loan_status=Current,'Late (31-120 days)', 'In Grace Period', 'Late (16-30 days)').<br/>\n",
    "Pour analyser le retour sur investissement, il faudra travailler sur une période de temps où les loans sont arrivés à leur terme (payés ou impayés) :"
   ]
  },
  {
   "cell_type": "code",
   "execution_count": 23,
   "metadata": {
    "collapsed": true
   },
   "outputs": [],
   "source": [
    "df_data['effective_term'] = df_data['last_pymnt_d'] - df_data['issue_d']\n",
    "df_data['pymnt_duration'] = ((df_data['effective_term'] / np.timedelta64(1, 'M')).round())\n",
    "df_data['pymnt_delay']=df_data['pymnt_duration']-df_data['term']\n",
    "\n",
    "df_valid_data = df_data[  ( (df_data['loan_status'].isin(['Fully Paid', 'Charged Off'])) &\n",
    "                ( (df_data['issue_d'] < np.datetime64('2012-06-01')) & (df_data['term']==36) ) \n",
    "                | ( (df_data['issue_d'] < np.datetime64('2010-06-01')) & (df_data['term']==60) ) ) ].copy(deep=True)\n"
   ]
  },
  {
   "cell_type": "markdown",
   "metadata": {},
   "source": [
    "<h3> Structure du crédit </h3>"
   ]
  },
  {
   "cell_type": "markdown",
   "metadata": {},
   "source": [
    "Evolution exponentielle du volume des emprunts émis :"
   ]
  },
  {
   "cell_type": "code",
   "execution_count": 24,
   "metadata": {
    "scrolled": false
   },
   "outputs": [
    {
     "data": {
      "image/png": "[encoded data removed]",
      "text/plain": [
       "<matplotlib.figure.Figure at 0x20e8764fcc0>"
      ]
     },
     "metadata": {},
     "output_type": "display_data"
    }
   ],
   "source": [
    "total_loan = pd.Series(df_data.groupby('issue_y')['loan_amnt'].sum())\n",
    "plt.plot(total_loan, label='all term')\n",
    "\n",
    "total_loan36 = pd.Series(df_data[df_data['term']==36].groupby('issue_y')['loan_amnt'].sum())\n",
    "plt.plot(total_loan36, label='36 month term')\n",
    "\n",
    "total_loan60 = pd.Series(df_data[df_data['term']==60].groupby('issue_y')['loan_amnt'].sum())\n",
    "plt.plot(total_loan60, label='60 month term')\n",
    "\n",
    "plt.title('Evolution du volume total des emprunts')\n",
    "plt.xlabel('Année')\n",
    "plt.ylabel('Montant annuel des emprunts en $')\n",
    "plt.legend()\n",
    "plt.show()"
   ]
  },
  {
   "cell_type": "code",
   "execution_count": 25,
   "metadata": {},
   "outputs": [
    {
     "data": {
      "image/png": "[encoded data removed]",
      "text/plain": [
       "<matplotlib.figure.Figure at 0x20e877acfd0>"
      ]
     },
     "metadata": {},
     "output_type": "display_data"
    }
   ],
   "source": [
    "plt1 = sns.countplot(x=\"purpose\", data=df_data2disp,  orient='h')\n",
    "plt1.set_xticklabels(labels=plt1.get_xticklabels(), rotation=45);"
   ]
  },
  {
   "cell_type": "markdown",
   "metadata": {},
   "source": [
    "<h3>Emprunteurs</h3>"
   ]
  },
  {
   "cell_type": "code",
   "execution_count": 36,
   "metadata": {},
   "outputs": [],
   "source": [
    "#df_data.head()"
   ]
  },
  {
   "cell_type": "markdown",
   "metadata": {},
   "source": [
    "<h3>Etude de l'investissement</h3>"
   ]
  },
  {
   "cell_type": "markdown",
   "metadata": {},
   "source": [
    "Le retour sur investissement réél dépend de :<br/>\n",
    "- taux d''intérêts (int_rate)\n",
    "- les retards de paiements (pyment_delay)\n",
    "- l'arrêt ou la poursuite du rembourssement jusqu'au plus proche de son terme (loan_status)\n",
    "<br/>\n",
    "On créer une variable qui permet d'évaluer le retard en mois sur les crédits totalement payés."
   ]
  },
  {
   "cell_type": "code",
   "execution_count": 49,
   "metadata": {
    "collapsed": true
   },
   "outputs": [],
   "source": [
    "df_valid_data['gain'] = df_valid_data['total_pymnt'] - df_valid_data['loan_amnt']\n",
    "df_valid_data['relative_gain'] = df_valid_data['gain']  / df_valid_data['loan_amnt']*100"
   ]
  },
  {
   "cell_type": "code",
   "execution_count": 76,
   "metadata": {},
   "outputs": [
    {
     "data": {
      "text/plain": [
       "<matplotlib.figure.Figure at 0x20ea2ac5588>"
      ]
     },
     "metadata": {},
     "output_type": "display_data"
    },
    {
     "data": {
      "image/png": "[encoded data removed]",
      "text/plain": [
       "<matplotlib.figure.Figure at 0x20ea4aba7b8>"
      ]
     },
     "metadata": {},
     "output_type": "display_data"
    }
   ],
   "source": [
    "#Quel est le retour sur investissement de chaque prêt? Total/Annuel/Mensuel\n",
    "plt.figure()\n",
    "df_valid_data.boxplot(column='relative_gain', by='grade')\n",
    "plt.show()"
   ]
  },
  {
   "cell_type": "markdown",
   "metadata": {},
   "source": [
    "On remarque naturellement que plus la notation du crédit est élevée, plus le gain médian augmente mais avec un risque plus élevé (écart interquartile élevé)"
   ]
  },
  {
   "cell_type": "markdown",
   "metadata": {},
   "source": [
    "On calcule le gain annuel en % :"
   ]
  },
  {
   "cell_type": "code",
   "execution_count": 75,
   "metadata": {},
   "outputs": [
    {
     "data": {
      "text/plain": [
       "11.117088594956977"
      ]
     },
     "execution_count": 75,
     "metadata": {},
     "output_type": "execute_result"
    }
   ],
   "source": [
    "T = df_valid_data['pymnt_duration']\n",
    "G = df_valid_data['relative_gain']\n",
    "I = df_valid_data['loan_amnt']\n",
    "NAR = (np.power(np.abs((G / 100 + 1)),12 / T) - 1) * ((G > 0) - 0.5) * 2 * 100\n",
    "NAR = NAR.replace([np.inf, -np.inf], 0)\n",
    "df_valid_data['NAR'] = NAR\n",
    "df_valid_data['NAR'].mean()"
   ]
  },
  {
   "cell_type": "code",
   "execution_count": 66,
   "metadata": {},
   "outputs": [
    {
     "data": {
      "text/plain": [
       "<matplotlib.figure.Figure at 0x20eac2f7358>"
      ]
     },
     "metadata": {},
     "output_type": "display_data"
    },
    {
     "data": {
      "image/png": "[encoded data removed]",
      "text/plain": [
       "<matplotlib.figure.Figure at 0x20eac2d49e8>"
      ]
     },
     "metadata": {},
     "output_type": "display_data"
    }
   ],
   "source": [
    "plt.figure()\n",
    "df_valid_data.boxplot(column='NAR', by='grade', showfliers=False)\n",
    "plt.show()"
   ]
  },
  {
   "cell_type": "markdown",
   "metadata": {},
   "source": [
    "Il est également utile de savoir s'il existe des types (purpose) d''investissements plus risqués. Ci-dessous, les emprunts pour énergies renouvelables sont plus risqués que ceux pour l'achat de voitures."
   ]
  },
  {
   "cell_type": "code",
   "execution_count": 74,
   "metadata": {},
   "outputs": [
    {
     "data": {
      "text/plain": [
       "<matplotlib.figure.Figure at 0x20e8982f8d0>"
      ]
     },
     "metadata": {},
     "output_type": "display_data"
    },
    {
     "data": {
      "image/png": "[encoded data removed]",
      "text/plain": [
       "<matplotlib.figure.Figure at 0x20ea4a17ba8>"
      ]
     },
     "metadata": {},
     "output_type": "display_data"
    }
   ],
   "source": [
    "plt.figure()\n",
    "plt1 = df_valid_data.boxplot(column='relative_gain', by='purpose')\n",
    "plt1.set_xticklabels(labels=plt1.get_xticklabels(), rotation=45);\n",
    "axes = plt.gca()\n",
    "axes.set_ylim([-25,50])\n",
    "plt.show()"
   ]
  }
 ],
 "metadata": {
  "kernelspec": {
   "display_name": "Python 3",
   "language": "python",
   "name": "python3"
  },
  "language_info": {
   "codemirror_mode": {
    "name": "ipython",
    "version": 3
   },
   "file_extension": ".py",
   "mimetype": "text/x-python",
   "name": "python",
   "nbconvert_exporter": "python",
   "pygments_lexer": "ipython3",
   "version": "3.6.1"
  }
 },
 "nbformat": 4,
 "nbformat_minor": 2
}
