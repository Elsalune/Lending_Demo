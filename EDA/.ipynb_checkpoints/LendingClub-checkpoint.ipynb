{
 "cells": [
  {
   "cell_type": "code",
   "execution_count": 18,
   "metadata": {},
   "outputs": [],
   "source": [
    "import pandas as pd\n",
    "import random as rd\n",
    "import matplotlib.pyplot as plt\n",
    "import seaborn as sns"
   ]
  },
  {
   "cell_type": "code",
   "execution_count": 13,
   "metadata": {},
   "outputs": [
    {
     "name": "stderr",
     "output_type": "stream",
     "text": [
      "C:\\Users\\mhillali\\AppData\\Local\\Continuum\\Anaconda3\\lib\\site-packages\\IPython\\core\\interactiveshell.py:2717: DtypeWarning: Columns (19,55) have mixed types. Specify dtype option on import or set low_memory=False.\n",
      "  interactivity=interactivity, compiler=compiler, result=result)\n"
     ]
    }
   ],
   "source": [
    "data = pd.read_csv(\"../inputs/loan.csv\",\n",
    "                   dtype={\n",
    "                      \"index\": int,\n",
    "                       \"id\": int\n",
    "                   }\n",
    "                   "
   ]
  },
  {
   "cell_type": "code",
   "execution_count": 14,
   "metadata": {},
   "outputs": [
    {
     "name": "stdout",
     "output_type": "stream",
     "text": [
      "          id  member_id  loan_amnt  funded_amnt  funded_amnt_inv        term  \\\n",
      "100  1068509    1302907     6200.0       6200.0           6200.0   36 months   \n",
      "101  1034693    1264291    16000.0      16000.0          16000.0   60 months   \n",
      "102  1068508    1302906     6000.0       6000.0           6000.0   36 months   \n",
      "103  1066641    1300833     7200.0       7200.0           7200.0   36 months   \n",
      "104  1068315    1302930     9500.0       9500.0           9500.0   36 months   \n",
      "105  1068309    1302924    18825.0      18825.0          18800.0   60 months   \n",
      "106  1068326    1302942    24000.0      24000.0          24000.0   36 months   \n",
      "107  1066767    1300950     6000.0       6000.0           6000.0   36 months   \n",
      "108  1068484    1302879     6000.0       6000.0           6000.0   36 months   \n",
      "109  1068292    1302706     2100.0       2100.0           2100.0   36 months   \n",
      "\n",
      "     int_rate  installment grade sub_grade     ...      total_bal_il il_util  \\\n",
      "100      9.91       199.80     B        B1     ...               NaN     NaN   \n",
      "101     17.58       402.65     D        D4     ...               NaN     NaN   \n",
      "102      8.90       190.52     A        A5     ...               NaN     NaN   \n",
      "103      9.91       232.02     B        B1     ...               NaN     NaN   \n",
      "104      8.90       301.66     A        A5     ...               NaN     NaN   \n",
      "105     16.77       465.53     D        D2     ...               NaN     NaN   \n",
      "106     10.65       781.76     B        B2     ...               NaN     NaN   \n",
      "107     13.49       203.59     C        C1     ...               NaN     NaN   \n",
      "108     13.49       203.59     C        C1     ...               NaN     NaN   \n",
      "109     12.42        70.18     B        B4     ...               NaN     NaN   \n",
      "\n",
      "    open_rv_12m  open_rv_24m max_bal_bc all_util total_rev_hi_lim inq_fi  \\\n",
      "100         NaN          NaN        NaN      NaN              NaN    NaN   \n",
      "101         NaN          NaN        NaN      NaN              NaN    NaN   \n",
      "102         NaN          NaN        NaN      NaN              NaN    NaN   \n",
      "103         NaN          NaN        NaN      NaN              NaN    NaN   \n",
      "104         NaN          NaN        NaN      NaN              NaN    NaN   \n",
      "105         NaN          NaN        NaN      NaN              NaN    NaN   \n",
      "106         NaN          NaN        NaN      NaN              NaN    NaN   \n",
      "107         NaN          NaN        NaN      NaN              NaN    NaN   \n",
      "108         NaN          NaN        NaN      NaN              NaN    NaN   \n",
      "109         NaN          NaN        NaN      NaN              NaN    NaN   \n",
      "\n",
      "    total_cu_tl inq_last_12m  \n",
      "100         NaN          NaN  \n",
      "101         NaN          NaN  \n",
      "102         NaN          NaN  \n",
      "103         NaN          NaN  \n",
      "104         NaN          NaN  \n",
      "105         NaN          NaN  \n",
      "106         NaN          NaN  \n",
      "107         NaN          NaN  \n",
      "108         NaN          NaN  \n",
      "109         NaN          NaN  \n",
      "\n",
      "[10 rows x 74 columns]\n"
     ]
    }
   ],
   "source": [
    "print(data[100:110])"
   ]
  },
  {
   "cell_type": "code",
   "execution_count": 19,
   "metadata": {},
   "outputs": [
    {
     "name": "stdout",
     "output_type": "stream",
     "text": [
      "count    8.873790e+05\n",
      "mean     3.246513e+07\n",
      "std      2.282734e+07\n",
      "min      5.473400e+04\n",
      "25%      9.206643e+06\n",
      "50%      3.443327e+07\n",
      "75%      5.490814e+07\n",
      "max      6.861706e+07\n",
      "Name: id, dtype: float64\n",
      "Skewness : 0.023905\n",
      "Kurtosis -1.490024 \n",
      "count    8.873790e+05\n",
      "mean     3.500182e+07\n",
      "std      2.411335e+07\n",
      "min      7.047300e+04\n",
      "25%      1.087713e+07\n",
      "50%      3.709528e+07\n",
      "75%      5.847135e+07\n",
      "max      7.354484e+07\n",
      "Name: member_id, dtype: float64\n",
      "Skewness : 0.017412\n",
      "Kurtosis -1.465814 \n",
      "count    887379.000000\n",
      "mean      14755.264605\n",
      "std        8435.455601\n",
      "min         500.000000\n",
      "25%        8000.000000\n",
      "50%       13000.000000\n",
      "75%       20000.000000\n",
      "max       35000.000000\n",
      "Name: loan_amnt, dtype: float64\n",
      "Skewness : 0.681683\n",
      "Kurtosis -0.256715 \n",
      "count    887379.000000\n",
      "mean      14741.877625\n",
      "std        8429.897657\n",
      "min         500.000000\n",
      "25%        8000.000000\n",
      "50%       13000.000000\n",
      "75%       20000.000000\n",
      "max       35000.000000\n",
      "Name: funded_amnt, dtype: float64\n",
      "Skewness : 0.683745\n",
      "Kurtosis -0.251638 \n",
      "count    887379.000000\n",
      "mean      14702.464383\n",
      "std        8442.106732\n",
      "min           0.000000\n",
      "25%        8000.000000\n",
      "50%       13000.000000\n",
      "75%       20000.000000\n",
      "max       35000.000000\n",
      "Name: funded_amnt_inv, dtype: float64\n",
      "Skewness : 0.680983\n",
      "Kurtosis -0.251765 \n",
      "count         887379\n",
      "unique             2\n",
      "top        36 months\n",
      "freq          621125\n",
      "Name: term, dtype: object\n"
     ]
    },
    {
     "ename": "TypeError",
     "evalue": "could not convert string to float: ' 36 months'",
     "output_type": "error",
     "traceback": [
      "\u001b[1;31m---------------------------------------------------------------------------\u001b[0m",
      "\u001b[1;31mValueError\u001b[0m                                Traceback (most recent call last)",
      "\u001b[1;32mC:\\Users\\mhillali\\AppData\\Local\\Continuum\\Anaconda3\\lib\\site-packages\\pandas\\core\\nanops.py\u001b[0m in \u001b[0;36m_f\u001b[1;34m(*args, **kwargs)\u001b[0m\n\u001b[0;32m     61\u001b[0m                 \u001b[1;32mwith\u001b[0m \u001b[0mnp\u001b[0m\u001b[1;33m.\u001b[0m\u001b[0merrstate\u001b[0m\u001b[1;33m(\u001b[0m\u001b[0minvalid\u001b[0m\u001b[1;33m=\u001b[0m\u001b[1;34m'ignore'\u001b[0m\u001b[1;33m)\u001b[0m\u001b[1;33m:\u001b[0m\u001b[1;33m\u001b[0m\u001b[0m\n\u001b[1;32m---> 62\u001b[1;33m                     \u001b[1;32mreturn\u001b[0m \u001b[0mf\u001b[0m\u001b[1;33m(\u001b[0m\u001b[1;33m*\u001b[0m\u001b[0margs\u001b[0m\u001b[1;33m,\u001b[0m \u001b[1;33m**\u001b[0m\u001b[0mkwargs\u001b[0m\u001b[1;33m)\u001b[0m\u001b[1;33m\u001b[0m\u001b[0m\n\u001b[0m\u001b[0;32m     63\u001b[0m             \u001b[1;32mexcept\u001b[0m \u001b[0mValueError\u001b[0m \u001b[1;32mas\u001b[0m \u001b[0me\u001b[0m\u001b[1;33m:\u001b[0m\u001b[1;33m\u001b[0m\u001b[0m\n",
      "\u001b[1;32mC:\\Users\\mhillali\\AppData\\Local\\Continuum\\Anaconda3\\lib\\site-packages\\pandas\\core\\nanops.py\u001b[0m in \u001b[0;36mnanskew\u001b[1;34m(values, axis, skipna)\u001b[0m\n\u001b[0;32m    507\u001b[0m     \u001b[1;32mif\u001b[0m \u001b[1;32mnot\u001b[0m \u001b[0mis_float_dtype\u001b[0m\u001b[1;33m(\u001b[0m\u001b[0mvalues\u001b[0m\u001b[1;33m.\u001b[0m\u001b[0mdtype\u001b[0m\u001b[1;33m)\u001b[0m\u001b[1;33m:\u001b[0m\u001b[1;33m\u001b[0m\u001b[0m\n\u001b[1;32m--> 508\u001b[1;33m         \u001b[0mvalues\u001b[0m \u001b[1;33m=\u001b[0m \u001b[0mvalues\u001b[0m\u001b[1;33m.\u001b[0m\u001b[0mastype\u001b[0m\u001b[1;33m(\u001b[0m\u001b[1;34m'f8'\u001b[0m\u001b[1;33m)\u001b[0m\u001b[1;33m\u001b[0m\u001b[0m\n\u001b[0m\u001b[0;32m    509\u001b[0m         \u001b[0mcount\u001b[0m \u001b[1;33m=\u001b[0m \u001b[0m_get_counts\u001b[0m\u001b[1;33m(\u001b[0m\u001b[0mmask\u001b[0m\u001b[1;33m,\u001b[0m \u001b[0maxis\u001b[0m\u001b[1;33m)\u001b[0m\u001b[1;33m\u001b[0m\u001b[0m\n",
      "\u001b[1;31mValueError\u001b[0m: could not convert string to float: ' 36 months'",
      "\nDuring handling of the above exception, another exception occurred:\n",
      "\u001b[1;31mTypeError\u001b[0m                                 Traceback (most recent call last)",
      "\u001b[1;32m<ipython-input-19-9943ad8a4b31>\u001b[0m in \u001b[0;36m<module>\u001b[1;34m()\u001b[0m\n\u001b[0;32m      1\u001b[0m \u001b[1;32mfor\u001b[0m \u001b[0mdep_var\u001b[0m \u001b[1;32min\u001b[0m \u001b[0mdata\u001b[0m\u001b[1;33m.\u001b[0m\u001b[0mcolumns\u001b[0m\u001b[1;33m:\u001b[0m\u001b[1;33m\u001b[0m\u001b[0m\n\u001b[0;32m      2\u001b[0m            \u001b[0mprint\u001b[0m\u001b[1;33m(\u001b[0m\u001b[0mdata\u001b[0m\u001b[1;33m[\u001b[0m\u001b[0mdep_var\u001b[0m\u001b[1;33m]\u001b[0m\u001b[1;33m.\u001b[0m\u001b[0mdescribe\u001b[0m\u001b[1;33m(\u001b[0m\u001b[1;33m)\u001b[0m\u001b[1;33m)\u001b[0m\u001b[1;33m\u001b[0m\u001b[0m\n\u001b[1;32m----> 3\u001b[1;33m            \u001b[0mprint\u001b[0m\u001b[1;33m(\u001b[0m\u001b[1;34m\"Skewness : %f\"\u001b[0m \u001b[1;33m%\u001b[0m \u001b[0mdata\u001b[0m\u001b[1;33m[\u001b[0m\u001b[0mdep_var\u001b[0m\u001b[1;33m]\u001b[0m\u001b[1;33m.\u001b[0m\u001b[0mskew\u001b[0m\u001b[1;33m(\u001b[0m\u001b[1;33m)\u001b[0m\u001b[1;33m)\u001b[0m\u001b[1;33m\u001b[0m\u001b[0m\n\u001b[0m\u001b[0;32m      4\u001b[0m            \u001b[0mprint\u001b[0m\u001b[1;33m(\u001b[0m\u001b[1;34m\"Kurtosis %f \"\u001b[0m \u001b[1;33m%\u001b[0m \u001b[0mdata\u001b[0m\u001b[1;33m[\u001b[0m\u001b[0mdep_var\u001b[0m\u001b[1;33m]\u001b[0m\u001b[1;33m.\u001b[0m\u001b[0mkurt\u001b[0m\u001b[1;33m(\u001b[0m\u001b[1;33m)\u001b[0m\u001b[1;33m)\u001b[0m\u001b[1;33m\u001b[0m\u001b[0m\n\u001b[0;32m      5\u001b[0m            \u001b[0mplt\u001b[0m\u001b[1;33m.\u001b[0m\u001b[0mfigure\u001b[0m\u001b[1;33m(\u001b[0m\u001b[1;33m)\u001b[0m\u001b[1;33m\u001b[0m\u001b[0m\n",
      "\u001b[1;32mC:\\Users\\mhillali\\AppData\\Local\\Continuum\\Anaconda3\\lib\\site-packages\\pandas\\core\\generic.py\u001b[0m in \u001b[0;36mstat_func\u001b[1;34m(self, axis, skipna, level, numeric_only, **kwargs)\u001b[0m\n\u001b[0;32m   6195\u001b[0m                                       skipna=skipna)\n\u001b[0;32m   6196\u001b[0m         return self._reduce(f, name, axis=axis, skipna=skipna,\n\u001b[1;32m-> 6197\u001b[1;33m                             numeric_only=numeric_only)\n\u001b[0m\u001b[0;32m   6198\u001b[0m \u001b[1;33m\u001b[0m\u001b[0m\n\u001b[0;32m   6199\u001b[0m     \u001b[1;32mreturn\u001b[0m \u001b[0mset_function_name\u001b[0m\u001b[1;33m(\u001b[0m\u001b[0mstat_func\u001b[0m\u001b[1;33m,\u001b[0m \u001b[0mname\u001b[0m\u001b[1;33m,\u001b[0m \u001b[0mcls\u001b[0m\u001b[1;33m)\u001b[0m\u001b[1;33m\u001b[0m\u001b[0m\n",
      "\u001b[1;32mC:\\Users\\mhillali\\AppData\\Local\\Continuum\\Anaconda3\\lib\\site-packages\\pandas\\core\\series.py\u001b[0m in \u001b[0;36m_reduce\u001b[1;34m(self, op, name, axis, skipna, numeric_only, filter_type, **kwds)\u001b[0m\n\u001b[0;32m   2379\u001b[0m                                           'numeric_only.'.format(name))\n\u001b[0;32m   2380\u001b[0m             \u001b[1;32mwith\u001b[0m \u001b[0mnp\u001b[0m\u001b[1;33m.\u001b[0m\u001b[0merrstate\u001b[0m\u001b[1;33m(\u001b[0m\u001b[0mall\u001b[0m\u001b[1;33m=\u001b[0m\u001b[1;34m'ignore'\u001b[0m\u001b[1;33m)\u001b[0m\u001b[1;33m:\u001b[0m\u001b[1;33m\u001b[0m\u001b[0m\n\u001b[1;32m-> 2381\u001b[1;33m                 \u001b[1;32mreturn\u001b[0m \u001b[0mop\u001b[0m\u001b[1;33m(\u001b[0m\u001b[0mdelegate\u001b[0m\u001b[1;33m,\u001b[0m \u001b[0mskipna\u001b[0m\u001b[1;33m=\u001b[0m\u001b[0mskipna\u001b[0m\u001b[1;33m,\u001b[0m \u001b[1;33m**\u001b[0m\u001b[0mkwds\u001b[0m\u001b[1;33m)\u001b[0m\u001b[1;33m\u001b[0m\u001b[0m\n\u001b[0m\u001b[0;32m   2382\u001b[0m \u001b[1;33m\u001b[0m\u001b[0m\n\u001b[0;32m   2383\u001b[0m         return delegate._reduce(op=op, name=name, axis=axis, skipna=skipna,\n",
      "\u001b[1;32mC:\\Users\\mhillali\\AppData\\Local\\Continuum\\Anaconda3\\lib\\site-packages\\pandas\\core\\nanops.py\u001b[0m in \u001b[0;36m_f\u001b[1;34m(*args, **kwargs)\u001b[0m\n\u001b[0;32m     67\u001b[0m                 \u001b[1;31m# object arrays that contain strings\u001b[0m\u001b[1;33m\u001b[0m\u001b[1;33m\u001b[0m\u001b[0m\n\u001b[0;32m     68\u001b[0m                 \u001b[1;32mif\u001b[0m \u001b[0mis_object_dtype\u001b[0m\u001b[1;33m(\u001b[0m\u001b[0margs\u001b[0m\u001b[1;33m[\u001b[0m\u001b[1;36m0\u001b[0m\u001b[1;33m]\u001b[0m\u001b[1;33m)\u001b[0m\u001b[1;33m:\u001b[0m\u001b[1;33m\u001b[0m\u001b[0m\n\u001b[1;32m---> 69\u001b[1;33m                     \u001b[1;32mraise\u001b[0m \u001b[0mTypeError\u001b[0m\u001b[1;33m(\u001b[0m\u001b[0me\u001b[0m\u001b[1;33m)\u001b[0m\u001b[1;33m\u001b[0m\u001b[0m\n\u001b[0m\u001b[0;32m     70\u001b[0m                 \u001b[1;32mraise\u001b[0m\u001b[1;33m\u001b[0m\u001b[0m\n\u001b[0;32m     71\u001b[0m \u001b[1;33m\u001b[0m\u001b[0m\n",
      "\u001b[1;31mTypeError\u001b[0m: could not convert string to float: ' 36 months'"
     ]
    }
   ],
   "source": [
    " for dep_var in data.columns:\n",
    "            print(data[dep_var].describe())\n",
    "            print(\"Skewness : %f\" % data[dep_var].skew())\n",
    "            print(\"Kurtosis %f \" % data[dep_var].kurt())\n",
    "            plt.figure()\n",
    "            sns.distplot(data[dep_var])"
   ]
  },
  {
   "cell_type": "code",
   "execution_count": null,
   "metadata": {
    "collapsed": true
   },
   "outputs": [],
   "source": []
  }
 ],
 "metadata": {
  "kernelspec": {
   "display_name": "Python 3",
   "language": "python",
   "name": "python3"
  },
  "language_info": {
   "codemirror_mode": {
    "name": "ipython",
    "version": 3
   },
   "file_extension": ".py",
   "mimetype": "text/x-python",
   "name": "python",
   "nbconvert_exporter": "python",
   "pygments_lexer": "ipython3",
   "version": "3.6.1"
  }
 },
 "nbformat": 4,
 "nbformat_minor": 2
}
